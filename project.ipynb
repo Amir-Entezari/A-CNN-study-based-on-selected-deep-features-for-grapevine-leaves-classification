{
  "cells": [
    {
      "cell_type": "code",
      "execution_count": null,
      "metadata": {
        "id": "BD4UKoN5dVZB"
      },
      "outputs": [],
      "source": [
        "import tensorflow as tf\n",
        "from sklearn.datasets import load_iris\n",
        "from sklearn.model_selection import train_test_split\n",
        "\n",
        "# TODO Use as_frame=True\n",
        "X = load_iris().data\n",
        "y = load_iris().target\n",
        "\n",
        "X_train, X_test, y_train, y_test = train_test_split(X, y)\n",
        "\n",
        "train = tf.data.Dataset.from_tensor_slices((X_train, y_train))\n",
        "train = train.repeat().shuffle(1000).batch(32)\n",
        "test = tf.data.Dataset.from_tensor_slices((X_test, y_test)).batch(1)"
      ]
    },
    {
      "cell_type": "code",
      "execution_count": null,
      "metadata": {
        "id": "LQob_oHcDdgd"
      },
      "outputs": [],
      "source": [
        "model = tf.keras.Sequential([\n",
        "  tf.keras.Input((4,)),\n",
        "  tf.keras.layers.Dense(10, activation=tf.nn.relu),\n",
        "  tf.keras.layers.Dense(10, activation=tf.nn.relu),\n",
        "  tf.keras.layers.Dense(3, activation=tf.nn.softmax)\n",
        "])\n",
        "\n",
        "model.compile(optimizer='adam', loss='sparse_categorical_crossentropy', metrics=['accuracy'])"
      ]
    },
    {
      "cell_type": "code",
      "execution_count": null,
      "metadata": {
        "id": "D6Qdg6j7dVZF"
      },
      "outputs": [],
      "source": [
        "model.fit(\n",
        "    train,\n",
        "    validation_data=test,\n",
        "    steps_per_epoch=150,\n",
        "    epochs=10,\n",
        ")"
      ]
    },
    {
      "cell_type": "code",
      "execution_count": null,
      "metadata": {
        "id": "sSunuvZIIsog"
      },
      "outputs": [],
      "source": [
        "predict_true_labels = [\"setosa\", \"versicolor\", \"virginica\"]\n",
        "predict_X = [\n",
        "  [5.1, 3.3, 1.7, 0.5],\n",
        "  [5.9, 3.0, 4.2, 1.5],\n",
        "  [6.9, 3.1, 5.4, 2.1],\n",
        "]\n",
        "\n",
        "predictions = model.predict(predict_X)\n",
        "\n",
        "for pred_dict, expected in zip(predictions, predict_true_labels):\n",
        "    predicted_index = pred_dict.argmax()\n",
        "    predicted = load_iris().target_names[predicted_index]\n",
        "    probability = pred_dict.max()\n",
        "    tick_cross = \"✓\" if predicted == expected else \"✗\"\n",
        "    print(f\"{tick_cross} Prediction is '{predicted}' ({100 * probability:.1f}%), expected '{expected}'\")"
      ]
    }
  ],
  "metadata": {
    "accelerator": "GPU",
    "colab": {
      "collapsed_sections": [],
      "name": "iris.ipynb",
      "private_outputs": true,
      "provenance": []
    },
    "kernelspec": {
      "display_name": "Python 3",
      "language": "python",
      "name": "python3"
    },
    "language_info": {
      "codemirror_mode": {
        "name": "ipython",
        "version": 3
      },
      "file_extension": ".py",
      "mimetype": "text/x-python",
      "name": "python",
      "nbconvert_exporter": "python",
      "pygments_lexer": "ipython3",
      "version": "3.8.3"
    }
  },
  "nbformat": 4,
  "nbformat_minor": 0
}