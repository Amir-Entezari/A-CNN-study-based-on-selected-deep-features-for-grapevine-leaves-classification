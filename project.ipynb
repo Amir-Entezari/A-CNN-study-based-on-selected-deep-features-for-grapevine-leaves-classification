{
  "nbformat": 4,
  "nbformat_minor": 0,
  "metadata": {
    "colab": {
      "name": "project.ipynb",
      "provenance": [],
      "collapsed_sections": [],
      "authorship_tag": "ABX9TyPt6HPg+/MC8tm0MyoUBSMv",
      "include_colab_link": true
    },
    "kernelspec": {
      "name": "python3",
      "display_name": "Python 3"
    },
    "language_info": {
      "name": "python"
    }
  },
  "cells": [
    {
      "cell_type": "markdown",
      "metadata": {
        "id": "view-in-github",
        "colab_type": "text"
      },
      "source": [
        "<a href=\"https://colab.research.google.com/github/mr-programmmer/data-mining-project/blob/main/project.ipynb\" target=\"_parent\"><img src=\"https://colab.research.google.com/assets/colab-badge.svg\" alt=\"Open In Colab\"/></a>"
      ]
    },
    {
      "cell_type": "code",
      "execution_count": 48,
      "metadata": {
        "colab": {
          "base_uri": "https://localhost:8080/",
          "height": 53
        },
        "id": "Wf3MlRhd6kzb",
        "outputId": "130fdb11-127d-46d5-a224-774f0c46b163"
      },
      "outputs": [
        {
          "output_type": "execute_result",
          "data": {
            "text/plain": [
              "'\\n!wget --no-check-certificate     \"https://www.muratkoklu.com/datasets/Grapevine_Leaves_Image_Dataset.zip\"     -O \"/tmp/grapevine.zip\"\\n\\n\\nzip_ref = zipfile.ZipFile(\\'/tmp/grapevine.zip\\', \\'r\\') #Opens the zip file in read mode\\nzip_ref.extractall(\\'/tmp\\') #Extracts the files into the /tmp folder\\nzip_ref.close()\\n'"
            ],
            "application/vnd.google.colaboratory.intrinsic+json": {
              "type": "string"
            }
          },
          "metadata": {},
          "execution_count": 48
        }
      ],
      "source": [
        "from matplotlib import pyplot as plt\n",
        "import zipfile\n",
        "import os\n",
        "\"\"\"\n",
        "!wget --no-check-certificate \\\n",
        "    \"https://www.muratkoklu.com/datasets/Grapevine_Leaves_Image_Dataset.zip\" \\\n",
        "    -O \"/tmp/grapevine.zip\"\n",
        "\n",
        "\n",
        "zip_ref = zipfile.ZipFile('/tmp/grapevine.zip', 'r') #Opens the zip file in read mode\n",
        "zip_ref.extractall('/tmp') #Extracts the files into the /tmp folder\n",
        "zip_ref.close()\n",
        "\"\"\""
      ]
    },
    {
      "cell_type": "code",
      "source": [
        "print('Test set dogs' , len(os.listdir('/tmp/Grapevine_Leaves_Image_Dataset/Ak/')))"
      ],
      "metadata": {
        "colab": {
          "base_uri": "https://localhost:8080/"
        },
        "id": "NT8eg9iA-sxC",
        "outputId": "07a6874e-6e4a-4809-ecbc-7242a8a79ad5"
      },
      "execution_count": 49,
      "outputs": [
        {
          "output_type": "stream",
          "name": "stdout",
          "text": [
            "Test set dogs 100\n"
          ]
        }
      ]
    },
    {
      "cell_type": "code",
      "source": [
        "import glob\n",
        "path = '/tmp/Grapevine_Leaves_Image_Dataset/'\n",
        "files = [f for f in glob.glob(path + \"*/*.png\", recursive=True)]\n",
        "print(files)"
      ],
      "metadata": {
        "colab": {
          "base_uri": "https://localhost:8080/"
        },
        "id": "vSUO7Okj_aIE",
        "outputId": "491e25a3-551f-4986-d9f7-f2cfe46e3cc3"
      },
      "execution_count": 50,
      "outputs": [
        {
          "output_type": "stream",
          "name": "stdout",
          "text": [
            "['/tmp/Grapevine_Leaves_Image_Dataset/Buzgulu/Buzgulu (18).png', '/tmp/Grapevine_Leaves_Image_Dataset/Buzgulu/Buzgulu (43).png', '/tmp/Grapevine_Leaves_Image_Dataset/Buzgulu/Buzgulu (58).png', '/tmp/Grapevine_Leaves_Image_Dataset/Buzgulu/Buzgulu (2).png', '/tmp/Grapevine_Leaves_Image_Dataset/Buzgulu/Buzgulu (73).png', '/tmp/Grapevine_Leaves_Image_Dataset/Buzgulu/Buzgulu (37).png', '/tmp/Grapevine_Leaves_Image_Dataset/Buzgulu/Buzgulu (5).png', '/tmp/Grapevine_Leaves_Image_Dataset/Buzgulu/Buzgulu (9).png', '/tmp/Grapevine_Leaves_Image_Dataset/Buzgulu/Buzgulu (76).png', '/tmp/Grapevine_Leaves_Image_Dataset/Buzgulu/Buzgulu (24).png', '/tmp/Grapevine_Leaves_Image_Dataset/Buzgulu/Buzgulu (71).png', '/tmp/Grapevine_Leaves_Image_Dataset/Buzgulu/Buzgulu (51).png', '/tmp/Grapevine_Leaves_Image_Dataset/Buzgulu/Buzgulu (97).png', '/tmp/Grapevine_Leaves_Image_Dataset/Buzgulu/Buzgulu (48).png', '/tmp/Grapevine_Leaves_Image_Dataset/Buzgulu/Buzgulu (54).png', '/tmp/Grapevine_Leaves_Image_Dataset/Buzgulu/Buzgulu (4).png', '/tmp/Grapevine_Leaves_Image_Dataset/Buzgulu/Buzgulu (64).png', '/tmp/Grapevine_Leaves_Image_Dataset/Buzgulu/Buzgulu (10).png', '/tmp/Grapevine_Leaves_Image_Dataset/Buzgulu/Buzgulu (36).png', '/tmp/Grapevine_Leaves_Image_Dataset/Buzgulu/Buzgulu (42).png', '/tmp/Grapevine_Leaves_Image_Dataset/Buzgulu/Buzgulu (1).png', '/tmp/Grapevine_Leaves_Image_Dataset/Buzgulu/Buzgulu (23).png', '/tmp/Grapevine_Leaves_Image_Dataset/Buzgulu/Buzgulu (21).png', '/tmp/Grapevine_Leaves_Image_Dataset/Buzgulu/Buzgulu (34).png', '/tmp/Grapevine_Leaves_Image_Dataset/Buzgulu/Buzgulu (93).png', '/tmp/Grapevine_Leaves_Image_Dataset/Buzgulu/Buzgulu (45).png', '/tmp/Grapevine_Leaves_Image_Dataset/Buzgulu/Buzgulu (82).png', '/tmp/Grapevine_Leaves_Image_Dataset/Buzgulu/Buzgulu (47).png', '/tmp/Grapevine_Leaves_Image_Dataset/Buzgulu/Buzgulu (60).png', '/tmp/Grapevine_Leaves_Image_Dataset/Buzgulu/Buzgulu (44).png', '/tmp/Grapevine_Leaves_Image_Dataset/Buzgulu/Buzgulu (59).png', '/tmp/Grapevine_Leaves_Image_Dataset/Buzgulu/Buzgulu (85).png', '/tmp/Grapevine_Leaves_Image_Dataset/Buzgulu/Buzgulu (46).png', '/tmp/Grapevine_Leaves_Image_Dataset/Buzgulu/Buzgulu (15).png', '/tmp/Grapevine_Leaves_Image_Dataset/Buzgulu/Buzgulu (16).png', '/tmp/Grapevine_Leaves_Image_Dataset/Buzgulu/Buzgulu (19).png', '/tmp/Grapevine_Leaves_Image_Dataset/Buzgulu/Buzgulu (90).png', '/tmp/Grapevine_Leaves_Image_Dataset/Buzgulu/Buzgulu (94).png', '/tmp/Grapevine_Leaves_Image_Dataset/Buzgulu/Buzgulu (7).png', '/tmp/Grapevine_Leaves_Image_Dataset/Buzgulu/Buzgulu (67).png', '/tmp/Grapevine_Leaves_Image_Dataset/Buzgulu/Buzgulu (84).png', '/tmp/Grapevine_Leaves_Image_Dataset/Buzgulu/Buzgulu (11).png', '/tmp/Grapevine_Leaves_Image_Dataset/Buzgulu/Buzgulu (74).png', '/tmp/Grapevine_Leaves_Image_Dataset/Buzgulu/Buzgulu (96).png', '/tmp/Grapevine_Leaves_Image_Dataset/Buzgulu/Buzgulu (49).png', '/tmp/Grapevine_Leaves_Image_Dataset/Buzgulu/Buzgulu (63).png', '/tmp/Grapevine_Leaves_Image_Dataset/Buzgulu/Buzgulu (95).png', '/tmp/Grapevine_Leaves_Image_Dataset/Buzgulu/Buzgulu (99).png', '/tmp/Grapevine_Leaves_Image_Dataset/Buzgulu/Buzgulu (68).png', '/tmp/Grapevine_Leaves_Image_Dataset/Buzgulu/Buzgulu (40).png', '/tmp/Grapevine_Leaves_Image_Dataset/Buzgulu/Buzgulu (39).png', '/tmp/Grapevine_Leaves_Image_Dataset/Buzgulu/Buzgulu (77).png', '/tmp/Grapevine_Leaves_Image_Dataset/Buzgulu/Buzgulu (22).png', '/tmp/Grapevine_Leaves_Image_Dataset/Buzgulu/Buzgulu (12).png', '/tmp/Grapevine_Leaves_Image_Dataset/Buzgulu/Buzgulu (98).png', '/tmp/Grapevine_Leaves_Image_Dataset/Buzgulu/Buzgulu (100).png', '/tmp/Grapevine_Leaves_Image_Dataset/Buzgulu/Buzgulu (20).png', '/tmp/Grapevine_Leaves_Image_Dataset/Buzgulu/Buzgulu (86).png', '/tmp/Grapevine_Leaves_Image_Dataset/Buzgulu/Buzgulu (70).png', '/tmp/Grapevine_Leaves_Image_Dataset/Buzgulu/Buzgulu (3).png', '/tmp/Grapevine_Leaves_Image_Dataset/Buzgulu/Buzgulu (87).png', '/tmp/Grapevine_Leaves_Image_Dataset/Buzgulu/Buzgulu (66).png', '/tmp/Grapevine_Leaves_Image_Dataset/Buzgulu/Buzgulu (53).png', '/tmp/Grapevine_Leaves_Image_Dataset/Buzgulu/Buzgulu (32).png', '/tmp/Grapevine_Leaves_Image_Dataset/Buzgulu/Buzgulu (80).png', '/tmp/Grapevine_Leaves_Image_Dataset/Buzgulu/Buzgulu (81).png', '/tmp/Grapevine_Leaves_Image_Dataset/Buzgulu/Buzgulu (72).png', '/tmp/Grapevine_Leaves_Image_Dataset/Buzgulu/Buzgulu (28).png', '/tmp/Grapevine_Leaves_Image_Dataset/Buzgulu/Buzgulu (57).png', '/tmp/Grapevine_Leaves_Image_Dataset/Buzgulu/Buzgulu (27).png', '/tmp/Grapevine_Leaves_Image_Dataset/Buzgulu/Buzgulu (13).png', '/tmp/Grapevine_Leaves_Image_Dataset/Buzgulu/Buzgulu (14).png', '/tmp/Grapevine_Leaves_Image_Dataset/Buzgulu/Buzgulu (50).png', '/tmp/Grapevine_Leaves_Image_Dataset/Buzgulu/Buzgulu (35).png', '/tmp/Grapevine_Leaves_Image_Dataset/Buzgulu/Buzgulu (6).png', '/tmp/Grapevine_Leaves_Image_Dataset/Buzgulu/Buzgulu (69).png', '/tmp/Grapevine_Leaves_Image_Dataset/Buzgulu/Buzgulu (83).png', '/tmp/Grapevine_Leaves_Image_Dataset/Buzgulu/Buzgulu (52).png', '/tmp/Grapevine_Leaves_Image_Dataset/Buzgulu/Buzgulu (56).png', '/tmp/Grapevine_Leaves_Image_Dataset/Buzgulu/Buzgulu (26).png', '/tmp/Grapevine_Leaves_Image_Dataset/Buzgulu/Buzgulu (78).png', '/tmp/Grapevine_Leaves_Image_Dataset/Buzgulu/Buzgulu (55).png', '/tmp/Grapevine_Leaves_Image_Dataset/Buzgulu/Buzgulu (17).png', '/tmp/Grapevine_Leaves_Image_Dataset/Buzgulu/Buzgulu (92).png', '/tmp/Grapevine_Leaves_Image_Dataset/Buzgulu/Buzgulu (29).png', '/tmp/Grapevine_Leaves_Image_Dataset/Buzgulu/Buzgulu (31).png', '/tmp/Grapevine_Leaves_Image_Dataset/Buzgulu/Buzgulu (33).png', '/tmp/Grapevine_Leaves_Image_Dataset/Buzgulu/Buzgulu (41).png', '/tmp/Grapevine_Leaves_Image_Dataset/Buzgulu/Buzgulu (65).png', '/tmp/Grapevine_Leaves_Image_Dataset/Buzgulu/Buzgulu (88).png', '/tmp/Grapevine_Leaves_Image_Dataset/Buzgulu/Buzgulu (62).png', '/tmp/Grapevine_Leaves_Image_Dataset/Buzgulu/Buzgulu (38).png', '/tmp/Grapevine_Leaves_Image_Dataset/Buzgulu/Buzgulu (89).png', '/tmp/Grapevine_Leaves_Image_Dataset/Buzgulu/Buzgulu (75).png', '/tmp/Grapevine_Leaves_Image_Dataset/Buzgulu/Buzgulu (8).png', '/tmp/Grapevine_Leaves_Image_Dataset/Buzgulu/Buzgulu (91).png', '/tmp/Grapevine_Leaves_Image_Dataset/Buzgulu/Buzgulu (61).png', '/tmp/Grapevine_Leaves_Image_Dataset/Buzgulu/Buzgulu (30).png', '/tmp/Grapevine_Leaves_Image_Dataset/Buzgulu/Buzgulu (25).png', '/tmp/Grapevine_Leaves_Image_Dataset/Buzgulu/Buzgulu (79).png', '/tmp/Grapevine_Leaves_Image_Dataset/Dimnit/Dimnit (6).png', '/tmp/Grapevine_Leaves_Image_Dataset/Dimnit/Dimnit (60).png', '/tmp/Grapevine_Leaves_Image_Dataset/Dimnit/Dimnit (38).png', '/tmp/Grapevine_Leaves_Image_Dataset/Dimnit/Dimnit (55).png', '/tmp/Grapevine_Leaves_Image_Dataset/Dimnit/Dimnit (26).png', '/tmp/Grapevine_Leaves_Image_Dataset/Dimnit/Dimnit (54).png', '/tmp/Grapevine_Leaves_Image_Dataset/Dimnit/Dimnit (68).png', '/tmp/Grapevine_Leaves_Image_Dataset/Dimnit/Dimnit (86).png', '/tmp/Grapevine_Leaves_Image_Dataset/Dimnit/Dimnit (67).png', '/tmp/Grapevine_Leaves_Image_Dataset/Dimnit/Dimnit (66).png', '/tmp/Grapevine_Leaves_Image_Dataset/Dimnit/Dimnit (25).png', '/tmp/Grapevine_Leaves_Image_Dataset/Dimnit/Dimnit (56).png', '/tmp/Grapevine_Leaves_Image_Dataset/Dimnit/Dimnit (87).png', '/tmp/Grapevine_Leaves_Image_Dataset/Dimnit/Dimnit (94).png', '/tmp/Grapevine_Leaves_Image_Dataset/Dimnit/Dimnit (27).png', '/tmp/Grapevine_Leaves_Image_Dataset/Dimnit/Dimnit (57).png', '/tmp/Grapevine_Leaves_Image_Dataset/Dimnit/Dimnit (76).png', '/tmp/Grapevine_Leaves_Image_Dataset/Dimnit/Dimnit (29).png', '/tmp/Grapevine_Leaves_Image_Dataset/Dimnit/Dimnit (12).png', '/tmp/Grapevine_Leaves_Image_Dataset/Dimnit/Dimnit (85).png', '/tmp/Grapevine_Leaves_Image_Dataset/Dimnit/Dimnit (64).png', '/tmp/Grapevine_Leaves_Image_Dataset/Dimnit/Dimnit (2).png', '/tmp/Grapevine_Leaves_Image_Dataset/Dimnit/Dimnit (17).png', '/tmp/Grapevine_Leaves_Image_Dataset/Dimnit/Dimnit (62).png', '/tmp/Grapevine_Leaves_Image_Dataset/Dimnit/Dimnit (30).png', '/tmp/Grapevine_Leaves_Image_Dataset/Dimnit/Dimnit (9).png', '/tmp/Grapevine_Leaves_Image_Dataset/Dimnit/Dimnit (97).png', '/tmp/Grapevine_Leaves_Image_Dataset/Dimnit/Dimnit (71).png', '/tmp/Grapevine_Leaves_Image_Dataset/Dimnit/Dimnit (52).png', '/tmp/Grapevine_Leaves_Image_Dataset/Dimnit/Dimnit (50).png', '/tmp/Grapevine_Leaves_Image_Dataset/Dimnit/Dimnit (35).png', '/tmp/Grapevine_Leaves_Image_Dataset/Dimnit/Dimnit (41).png', '/tmp/Grapevine_Leaves_Image_Dataset/Dimnit/Dimnit (48).png', '/tmp/Grapevine_Leaves_Image_Dataset/Dimnit/Dimnit (70).png', '/tmp/Grapevine_Leaves_Image_Dataset/Dimnit/Dimnit (89).png', '/tmp/Grapevine_Leaves_Image_Dataset/Dimnit/Dimnit (33).png', '/tmp/Grapevine_Leaves_Image_Dataset/Dimnit/Dimnit (91).png', '/tmp/Grapevine_Leaves_Image_Dataset/Dimnit/Dimnit (34).png', '/tmp/Grapevine_Leaves_Image_Dataset/Dimnit/Dimnit (15).png', '/tmp/Grapevine_Leaves_Image_Dataset/Dimnit/Dimnit (42).png', '/tmp/Grapevine_Leaves_Image_Dataset/Dimnit/Dimnit (5).png', '/tmp/Grapevine_Leaves_Image_Dataset/Dimnit/Dimnit (78).png', '/tmp/Grapevine_Leaves_Image_Dataset/Dimnit/Dimnit (16).png', '/tmp/Grapevine_Leaves_Image_Dataset/Dimnit/Dimnit (90).png', '/tmp/Grapevine_Leaves_Image_Dataset/Dimnit/Dimnit (73).png', '/tmp/Grapevine_Leaves_Image_Dataset/Dimnit/Dimnit (21).png', '/tmp/Grapevine_Leaves_Image_Dataset/Dimnit/Dimnit (88).png', '/tmp/Grapevine_Leaves_Image_Dataset/Dimnit/Dimnit (23).png', '/tmp/Grapevine_Leaves_Image_Dataset/Dimnit/Dimnit (46).png', '/tmp/Grapevine_Leaves_Image_Dataset/Dimnit/Dimnit (47).png', '/tmp/Grapevine_Leaves_Image_Dataset/Dimnit/Dimnit (63).png', '/tmp/Grapevine_Leaves_Image_Dataset/Dimnit/Dimnit (80).png', '/tmp/Grapevine_Leaves_Image_Dataset/Dimnit/Dimnit (59).png', '/tmp/Grapevine_Leaves_Image_Dataset/Dimnit/Dimnit (72).png', '/tmp/Grapevine_Leaves_Image_Dataset/Dimnit/Dimnit (81).png', '/tmp/Grapevine_Leaves_Image_Dataset/Dimnit/Dimnit (45).png', '/tmp/Grapevine_Leaves_Image_Dataset/Dimnit/Dimnit (19).png', '/tmp/Grapevine_Leaves_Image_Dataset/Dimnit/Dimnit (32).png', '/tmp/Grapevine_Leaves_Image_Dataset/Dimnit/Dimnit (44).png', '/tmp/Grapevine_Leaves_Image_Dataset/Dimnit/Dimnit (95).png', '/tmp/Grapevine_Leaves_Image_Dataset/Dimnit/Dimnit (82).png', '/tmp/Grapevine_Leaves_Image_Dataset/Dimnit/Dimnit (8).png', '/tmp/Grapevine_Leaves_Image_Dataset/Dimnit/Dimnit (51).png', '/tmp/Grapevine_Leaves_Image_Dataset/Dimnit/Dimnit (39).png', '/tmp/Grapevine_Leaves_Image_Dataset/Dimnit/Dimnit (36).png', '/tmp/Grapevine_Leaves_Image_Dataset/Dimnit/Dimnit (96).png', '/tmp/Grapevine_Leaves_Image_Dataset/Dimnit/Dimnit (43).png', '/tmp/Grapevine_Leaves_Image_Dataset/Dimnit/Dimnit (14).png', '/tmp/Grapevine_Leaves_Image_Dataset/Dimnit/Dimnit (13).png', '/tmp/Grapevine_Leaves_Image_Dataset/Dimnit/Dimnit (61).png', '/tmp/Grapevine_Leaves_Image_Dataset/Dimnit/Dimnit (28).png', '/tmp/Grapevine_Leaves_Image_Dataset/Dimnit/Dimnit (24).png', '/tmp/Grapevine_Leaves_Image_Dataset/Dimnit/Dimnit (40).png', '/tmp/Grapevine_Leaves_Image_Dataset/Dimnit/Dimnit (75).png', '/tmp/Grapevine_Leaves_Image_Dataset/Dimnit/Dimnit (84).png', '/tmp/Grapevine_Leaves_Image_Dataset/Dimnit/Dimnit (93).png', '/tmp/Grapevine_Leaves_Image_Dataset/Dimnit/Dimnit (69).png', '/tmp/Grapevine_Leaves_Image_Dataset/Dimnit/Dimnit (53).png', '/tmp/Grapevine_Leaves_Image_Dataset/Dimnit/Dimnit (98).png', '/tmp/Grapevine_Leaves_Image_Dataset/Dimnit/Dimnit (49).png', '/tmp/Grapevine_Leaves_Image_Dataset/Dimnit/Dimnit (4).png', '/tmp/Grapevine_Leaves_Image_Dataset/Dimnit/Dimnit (65).png', '/tmp/Grapevine_Leaves_Image_Dataset/Dimnit/Dimnit (31).png', '/tmp/Grapevine_Leaves_Image_Dataset/Dimnit/Dimnit (79).png', '/tmp/Grapevine_Leaves_Image_Dataset/Dimnit/Dimnit (74).png', '/tmp/Grapevine_Leaves_Image_Dataset/Dimnit/Dimnit (18).png', '/tmp/Grapevine_Leaves_Image_Dataset/Dimnit/Dimnit (1).png', '/tmp/Grapevine_Leaves_Image_Dataset/Dimnit/Dimnit (99).png', '/tmp/Grapevine_Leaves_Image_Dataset/Dimnit/Dimnit (92).png', '/tmp/Grapevine_Leaves_Image_Dataset/Dimnit/Dimnit (20).png', '/tmp/Grapevine_Leaves_Image_Dataset/Dimnit/Dimnit (7).png', '/tmp/Grapevine_Leaves_Image_Dataset/Dimnit/Dimnit (22).png', '/tmp/Grapevine_Leaves_Image_Dataset/Dimnit/Dimnit (77).png', '/tmp/Grapevine_Leaves_Image_Dataset/Dimnit/Dimnit (3).png', '/tmp/Grapevine_Leaves_Image_Dataset/Dimnit/Dimnit (10).png', '/tmp/Grapevine_Leaves_Image_Dataset/Dimnit/Dimnit (11).png', '/tmp/Grapevine_Leaves_Image_Dataset/Dimnit/Dimnit (58).png', '/tmp/Grapevine_Leaves_Image_Dataset/Dimnit/Dimnit (37).png', '/tmp/Grapevine_Leaves_Image_Dataset/Dimnit/Dimnit (100).png', '/tmp/Grapevine_Leaves_Image_Dataset/Dimnit/Dimnit (83).png', '/tmp/Grapevine_Leaves_Image_Dataset/Ak/Ak (74).png', '/tmp/Grapevine_Leaves_Image_Dataset/Ak/Ak (31).png', '/tmp/Grapevine_Leaves_Image_Dataset/Ak/Ak (93).png', '/tmp/Grapevine_Leaves_Image_Dataset/Ak/Ak (30).png', '/tmp/Grapevine_Leaves_Image_Dataset/Ak/Ak (29).png', '/tmp/Grapevine_Leaves_Image_Dataset/Ak/Ak (65).png', '/tmp/Grapevine_Leaves_Image_Dataset/Ak/Ak (92).png', '/tmp/Grapevine_Leaves_Image_Dataset/Ak/Ak (78).png', '/tmp/Grapevine_Leaves_Image_Dataset/Ak/Ak (61).png', '/tmp/Grapevine_Leaves_Image_Dataset/Ak/Ak (79).png', '/tmp/Grapevine_Leaves_Image_Dataset/Ak/Ak (64).png', '/tmp/Grapevine_Leaves_Image_Dataset/Ak/Ak (21).png', '/tmp/Grapevine_Leaves_Image_Dataset/Ak/Ak (3).png', '/tmp/Grapevine_Leaves_Image_Dataset/Ak/Ak (63).png', '/tmp/Grapevine_Leaves_Image_Dataset/Ak/Ak (52).png', '/tmp/Grapevine_Leaves_Image_Dataset/Ak/Ak (19).png', '/tmp/Grapevine_Leaves_Image_Dataset/Ak/Ak (1).png', '/tmp/Grapevine_Leaves_Image_Dataset/Ak/Ak (68).png', '/tmp/Grapevine_Leaves_Image_Dataset/Ak/Ak (73).png', '/tmp/Grapevine_Leaves_Image_Dataset/Ak/Ak (36).png', '/tmp/Grapevine_Leaves_Image_Dataset/Ak/Ak (2).png', '/tmp/Grapevine_Leaves_Image_Dataset/Ak/Ak (37).png', '/tmp/Grapevine_Leaves_Image_Dataset/Ak/Ak (67).png', '/tmp/Grapevine_Leaves_Image_Dataset/Ak/Ak (75).png', '/tmp/Grapevine_Leaves_Image_Dataset/Ak/Ak (83).png', '/tmp/Grapevine_Leaves_Image_Dataset/Ak/Ak (89).png', '/tmp/Grapevine_Leaves_Image_Dataset/Ak/Ak (23).png', '/tmp/Grapevine_Leaves_Image_Dataset/Ak/Ak (34).png', '/tmp/Grapevine_Leaves_Image_Dataset/Ak/Ak (49).png', '/tmp/Grapevine_Leaves_Image_Dataset/Ak/Ak (71).png', '/tmp/Grapevine_Leaves_Image_Dataset/Ak/Ak (38).png', '/tmp/Grapevine_Leaves_Image_Dataset/Ak/Ak (26).png', '/tmp/Grapevine_Leaves_Image_Dataset/Ak/Ak (41).png', '/tmp/Grapevine_Leaves_Image_Dataset/Ak/Ak (22).png', '/tmp/Grapevine_Leaves_Image_Dataset/Ak/Ak (20).png', '/tmp/Grapevine_Leaves_Image_Dataset/Ak/Ak (88).png', '/tmp/Grapevine_Leaves_Image_Dataset/Ak/Ak (39).png', '/tmp/Grapevine_Leaves_Image_Dataset/Ak/Ak (81).png', '/tmp/Grapevine_Leaves_Image_Dataset/Ak/Ak (5).png', '/tmp/Grapevine_Leaves_Image_Dataset/Ak/Ak (33).png', '/tmp/Grapevine_Leaves_Image_Dataset/Ak/Ak (18).png', '/tmp/Grapevine_Leaves_Image_Dataset/Ak/Ak (85).png', '/tmp/Grapevine_Leaves_Image_Dataset/Ak/Ak (6).png', '/tmp/Grapevine_Leaves_Image_Dataset/Ak/Ak (14).png', '/tmp/Grapevine_Leaves_Image_Dataset/Ak/Ak (87).png', '/tmp/Grapevine_Leaves_Image_Dataset/Ak/Ak (94).png', '/tmp/Grapevine_Leaves_Image_Dataset/Ak/Ak (86).png', '/tmp/Grapevine_Leaves_Image_Dataset/Ak/Ak (9).png', '/tmp/Grapevine_Leaves_Image_Dataset/Ak/Ak (80).png', '/tmp/Grapevine_Leaves_Image_Dataset/Ak/Ak (59).png', '/tmp/Grapevine_Leaves_Image_Dataset/Ak/Ak (54).png', '/tmp/Grapevine_Leaves_Image_Dataset/Ak/Ak (43).png', '/tmp/Grapevine_Leaves_Image_Dataset/Ak/Ak (77).png', '/tmp/Grapevine_Leaves_Image_Dataset/Ak/Ak (48).png', '/tmp/Grapevine_Leaves_Image_Dataset/Ak/Ak (53).png', '/tmp/Grapevine_Leaves_Image_Dataset/Ak/Ak (51).png', '/tmp/Grapevine_Leaves_Image_Dataset/Ak/Ak (72).png', '/tmp/Grapevine_Leaves_Image_Dataset/Ak/Ak (70).png', '/tmp/Grapevine_Leaves_Image_Dataset/Ak/Ak (10).png', '/tmp/Grapevine_Leaves_Image_Dataset/Ak/Ak (42).png', '/tmp/Grapevine_Leaves_Image_Dataset/Ak/Ak (82).png', '/tmp/Grapevine_Leaves_Image_Dataset/Ak/Ak (15).png', '/tmp/Grapevine_Leaves_Image_Dataset/Ak/Ak (35).png', '/tmp/Grapevine_Leaves_Image_Dataset/Ak/Ak (32).png', '/tmp/Grapevine_Leaves_Image_Dataset/Ak/Ak (60).png', '/tmp/Grapevine_Leaves_Image_Dataset/Ak/Ak (46).png', '/tmp/Grapevine_Leaves_Image_Dataset/Ak/Ak (62).png', '/tmp/Grapevine_Leaves_Image_Dataset/Ak/Ak (44).png', '/tmp/Grapevine_Leaves_Image_Dataset/Ak/Ak (24).png', '/tmp/Grapevine_Leaves_Image_Dataset/Ak/Ak (4).png', '/tmp/Grapevine_Leaves_Image_Dataset/Ak/Ak (55).png', '/tmp/Grapevine_Leaves_Image_Dataset/Ak/Ak (28).png', '/tmp/Grapevine_Leaves_Image_Dataset/Ak/Ak (25).png', '/tmp/Grapevine_Leaves_Image_Dataset/Ak/Ak (27).png', '/tmp/Grapevine_Leaves_Image_Dataset/Ak/Ak (90).png', '/tmp/Grapevine_Leaves_Image_Dataset/Ak/Ak (11).png', '/tmp/Grapevine_Leaves_Image_Dataset/Ak/Ak (57).png', '/tmp/Grapevine_Leaves_Image_Dataset/Ak/Ak (69).png', '/tmp/Grapevine_Leaves_Image_Dataset/Ak/Ak (8).png', '/tmp/Grapevine_Leaves_Image_Dataset/Ak/Ak (13).png', '/tmp/Grapevine_Leaves_Image_Dataset/Ak/Ak (76).png', '/tmp/Grapevine_Leaves_Image_Dataset/Ak/Ak (47).png', '/tmp/Grapevine_Leaves_Image_Dataset/Ak/Ak (56).png', '/tmp/Grapevine_Leaves_Image_Dataset/Ak/Ak (7).png', '/tmp/Grapevine_Leaves_Image_Dataset/Ak/Ak (12).png', '/tmp/Grapevine_Leaves_Image_Dataset/Ak/Ak (96).png', '/tmp/Grapevine_Leaves_Image_Dataset/Ak/Ak (17).png', '/tmp/Grapevine_Leaves_Image_Dataset/Ak/Ak (58).png', '/tmp/Grapevine_Leaves_Image_Dataset/Ak/Ak (95).png', '/tmp/Grapevine_Leaves_Image_Dataset/Ak/Ak (45).png', '/tmp/Grapevine_Leaves_Image_Dataset/Ak/Ak (100).png', '/tmp/Grapevine_Leaves_Image_Dataset/Ak/Ak (97).png', '/tmp/Grapevine_Leaves_Image_Dataset/Ak/Ak (84).png', '/tmp/Grapevine_Leaves_Image_Dataset/Ak/Ak (40).png', '/tmp/Grapevine_Leaves_Image_Dataset/Ak/Ak (16).png', '/tmp/Grapevine_Leaves_Image_Dataset/Ak/Ak (50).png', '/tmp/Grapevine_Leaves_Image_Dataset/Ak/Ak (91).png', '/tmp/Grapevine_Leaves_Image_Dataset/Ak/Ak (99).png', '/tmp/Grapevine_Leaves_Image_Dataset/Ak/Ak (66).png', '/tmp/Grapevine_Leaves_Image_Dataset/Ak/Ak (98).png', '/tmp/Grapevine_Leaves_Image_Dataset/Nazli/Nazli (96).png', '/tmp/Grapevine_Leaves_Image_Dataset/Nazli/Nazli (63).png', '/tmp/Grapevine_Leaves_Image_Dataset/Nazli/Nazli (7).png', '/tmp/Grapevine_Leaves_Image_Dataset/Nazli/Nazli (52).png', '/tmp/Grapevine_Leaves_Image_Dataset/Nazli/Nazli (39).png', '/tmp/Grapevine_Leaves_Image_Dataset/Nazli/Nazli (92).png', '/tmp/Grapevine_Leaves_Image_Dataset/Nazli/Nazli (98).png', '/tmp/Grapevine_Leaves_Image_Dataset/Nazli/Nazli (12).png', '/tmp/Grapevine_Leaves_Image_Dataset/Nazli/Nazli (77).png', '/tmp/Grapevine_Leaves_Image_Dataset/Nazli/Nazli (69).png', '/tmp/Grapevine_Leaves_Image_Dataset/Nazli/Nazli (44).png', '/tmp/Grapevine_Leaves_Image_Dataset/Nazli/Nazli (100).png', '/tmp/Grapevine_Leaves_Image_Dataset/Nazli/Nazli (85).png', '/tmp/Grapevine_Leaves_Image_Dataset/Nazli/Nazli (31).png', '/tmp/Grapevine_Leaves_Image_Dataset/Nazli/Nazli (73).png', '/tmp/Grapevine_Leaves_Image_Dataset/Nazli/Nazli (3).png', '/tmp/Grapevine_Leaves_Image_Dataset/Nazli/Nazli (94).png', '/tmp/Grapevine_Leaves_Image_Dataset/Nazli/Nazli (51).png', '/tmp/Grapevine_Leaves_Image_Dataset/Nazli/Nazli (42).png', '/tmp/Grapevine_Leaves_Image_Dataset/Nazli/Nazli (68).png', '/tmp/Grapevine_Leaves_Image_Dataset/Nazli/Nazli (86).png', '/tmp/Grapevine_Leaves_Image_Dataset/Nazli/Nazli (97).png', '/tmp/Grapevine_Leaves_Image_Dataset/Nazli/Nazli (93).png', '/tmp/Grapevine_Leaves_Image_Dataset/Nazli/Nazli (80).png', '/tmp/Grapevine_Leaves_Image_Dataset/Nazli/Nazli (17).png', '/tmp/Grapevine_Leaves_Image_Dataset/Nazli/Nazli (30).png', '/tmp/Grapevine_Leaves_Image_Dataset/Nazli/Nazli (72).png', '/tmp/Grapevine_Leaves_Image_Dataset/Nazli/Nazli (41).png', '/tmp/Grapevine_Leaves_Image_Dataset/Nazli/Nazli (32).png', '/tmp/Grapevine_Leaves_Image_Dataset/Nazli/Nazli (11).png', '/tmp/Grapevine_Leaves_Image_Dataset/Nazli/Nazli (27).png', '/tmp/Grapevine_Leaves_Image_Dataset/Nazli/Nazli (16).png', '/tmp/Grapevine_Leaves_Image_Dataset/Nazli/Nazli (43).png', '/tmp/Grapevine_Leaves_Image_Dataset/Nazli/Nazli (29).png', '/tmp/Grapevine_Leaves_Image_Dataset/Nazli/Nazli (5).png', '/tmp/Grapevine_Leaves_Image_Dataset/Nazli/Nazli (84).png', '/tmp/Grapevine_Leaves_Image_Dataset/Nazli/Nazli (6).png', '/tmp/Grapevine_Leaves_Image_Dataset/Nazli/Nazli (91).png', '/tmp/Grapevine_Leaves_Image_Dataset/Nazli/Nazli (14).png', '/tmp/Grapevine_Leaves_Image_Dataset/Nazli/Nazli (34).png', '/tmp/Grapevine_Leaves_Image_Dataset/Nazli/Nazli (78).png', '/tmp/Grapevine_Leaves_Image_Dataset/Nazli/Nazli (99).png', '/tmp/Grapevine_Leaves_Image_Dataset/Nazli/Nazli (76).png', '/tmp/Grapevine_Leaves_Image_Dataset/Nazli/Nazli (24).png', '/tmp/Grapevine_Leaves_Image_Dataset/Nazli/Nazli (4).png', '/tmp/Grapevine_Leaves_Image_Dataset/Nazli/Nazli (89).png', '/tmp/Grapevine_Leaves_Image_Dataset/Nazli/Nazli (37).png', '/tmp/Grapevine_Leaves_Image_Dataset/Nazli/Nazli (13).png', '/tmp/Grapevine_Leaves_Image_Dataset/Nazli/Nazli (70).png', '/tmp/Grapevine_Leaves_Image_Dataset/Nazli/Nazli (36).png', '/tmp/Grapevine_Leaves_Image_Dataset/Nazli/Nazli (95).png', '/tmp/Grapevine_Leaves_Image_Dataset/Nazli/Nazli (65).png', '/tmp/Grapevine_Leaves_Image_Dataset/Nazli/Nazli (67).png', '/tmp/Grapevine_Leaves_Image_Dataset/Nazli/Nazli (25).png', '/tmp/Grapevine_Leaves_Image_Dataset/Nazli/Nazli (22).png', '/tmp/Grapevine_Leaves_Image_Dataset/Nazli/Nazli (83).png', '/tmp/Grapevine_Leaves_Image_Dataset/Nazli/Nazli (18).png', '/tmp/Grapevine_Leaves_Image_Dataset/Nazli/Nazli (46).png', '/tmp/Grapevine_Leaves_Image_Dataset/Nazli/Nazli (75).png', '/tmp/Grapevine_Leaves_Image_Dataset/Nazli/Nazli (8).png', '/tmp/Grapevine_Leaves_Image_Dataset/Nazli/Nazli (9).png', '/tmp/Grapevine_Leaves_Image_Dataset/Nazli/Nazli (53).png', '/tmp/Grapevine_Leaves_Image_Dataset/Nazli/Nazli (62).png', '/tmp/Grapevine_Leaves_Image_Dataset/Nazli/Nazli (64).png', '/tmp/Grapevine_Leaves_Image_Dataset/Nazli/Nazli (54).png', '/tmp/Grapevine_Leaves_Image_Dataset/Nazli/Nazli (60).png', '/tmp/Grapevine_Leaves_Image_Dataset/Nazli/Nazli (20).png', '/tmp/Grapevine_Leaves_Image_Dataset/Nazli/Nazli (49).png', '/tmp/Grapevine_Leaves_Image_Dataset/Nazli/Nazli (21).png', '/tmp/Grapevine_Leaves_Image_Dataset/Nazli/Nazli (59).png', '/tmp/Grapevine_Leaves_Image_Dataset/Nazli/Nazli (48).png', '/tmp/Grapevine_Leaves_Image_Dataset/Nazli/Nazli (38).png', '/tmp/Grapevine_Leaves_Image_Dataset/Nazli/Nazli (47).png', '/tmp/Grapevine_Leaves_Image_Dataset/Nazli/Nazli (28).png', '/tmp/Grapevine_Leaves_Image_Dataset/Nazli/Nazli (81).png', '/tmp/Grapevine_Leaves_Image_Dataset/Nazli/Nazli (26).png', '/tmp/Grapevine_Leaves_Image_Dataset/Nazli/Nazli (33).png', '/tmp/Grapevine_Leaves_Image_Dataset/Nazli/Nazli (50).png', '/tmp/Grapevine_Leaves_Image_Dataset/Nazli/Nazli (57).png', '/tmp/Grapevine_Leaves_Image_Dataset/Nazli/Nazli (58).png', '/tmp/Grapevine_Leaves_Image_Dataset/Nazli/Nazli (19).png', '/tmp/Grapevine_Leaves_Image_Dataset/Nazli/Nazli (82).png', '/tmp/Grapevine_Leaves_Image_Dataset/Nazli/Nazli (87).png', '/tmp/Grapevine_Leaves_Image_Dataset/Nazli/Nazli (66).png', '/tmp/Grapevine_Leaves_Image_Dataset/Nazli/Nazli (45).png', '/tmp/Grapevine_Leaves_Image_Dataset/Nazli/Nazli (10).png', '/tmp/Grapevine_Leaves_Image_Dataset/Nazli/Nazli (40).png', '/tmp/Grapevine_Leaves_Image_Dataset/Nazli/Nazli (88).png', '/tmp/Grapevine_Leaves_Image_Dataset/Nazli/Nazli (90).png', '/tmp/Grapevine_Leaves_Image_Dataset/Nazli/Nazli (23).png', '/tmp/Grapevine_Leaves_Image_Dataset/Nazli/Nazli (15).png', '/tmp/Grapevine_Leaves_Image_Dataset/Nazli/Nazli (79).png', '/tmp/Grapevine_Leaves_Image_Dataset/Nazli/Nazli (2).png', '/tmp/Grapevine_Leaves_Image_Dataset/Nazli/Nazli (56).png', '/tmp/Grapevine_Leaves_Image_Dataset/Nazli/Nazli (1).png', '/tmp/Grapevine_Leaves_Image_Dataset/Nazli/Nazli (61).png', '/tmp/Grapevine_Leaves_Image_Dataset/Nazli/Nazli (74).png', '/tmp/Grapevine_Leaves_Image_Dataset/Nazli/Nazli (71).png', '/tmp/Grapevine_Leaves_Image_Dataset/Nazli/Nazli (35).png', '/tmp/Grapevine_Leaves_Image_Dataset/Nazli/Nazli (55).png', '/tmp/Grapevine_Leaves_Image_Dataset/Ala_Idris/Ala_Idris (37).png', '/tmp/Grapevine_Leaves_Image_Dataset/Ala_Idris/Ala_Idris (17).png', '/tmp/Grapevine_Leaves_Image_Dataset/Ala_Idris/Ala_Idris (89).png', '/tmp/Grapevine_Leaves_Image_Dataset/Ala_Idris/Ala_Idris (97).png', '/tmp/Grapevine_Leaves_Image_Dataset/Ala_Idris/Ala_Idris (95).png', '/tmp/Grapevine_Leaves_Image_Dataset/Ala_Idris/Ala_Idris (72).png', '/tmp/Grapevine_Leaves_Image_Dataset/Ala_Idris/Ala_Idris (66).png', '/tmp/Grapevine_Leaves_Image_Dataset/Ala_Idris/Ala_Idris (57).png', '/tmp/Grapevine_Leaves_Image_Dataset/Ala_Idris/Ala_Idris (64).png', '/tmp/Grapevine_Leaves_Image_Dataset/Ala_Idris/Ala_Idris (84).png', '/tmp/Grapevine_Leaves_Image_Dataset/Ala_Idris/Ala_Idris (43).png', '/tmp/Grapevine_Leaves_Image_Dataset/Ala_Idris/Ala_Idris (14).png', '/tmp/Grapevine_Leaves_Image_Dataset/Ala_Idris/Ala_Idris (82).png', '/tmp/Grapevine_Leaves_Image_Dataset/Ala_Idris/Ala_Idris (4).png', '/tmp/Grapevine_Leaves_Image_Dataset/Ala_Idris/Ala_Idris (33).png', '/tmp/Grapevine_Leaves_Image_Dataset/Ala_Idris/Ala_Idris (52).png', '/tmp/Grapevine_Leaves_Image_Dataset/Ala_Idris/Ala_Idris (67).png', '/tmp/Grapevine_Leaves_Image_Dataset/Ala_Idris/Ala_Idris (6).png', '/tmp/Grapevine_Leaves_Image_Dataset/Ala_Idris/Ala_Idris (36).png', '/tmp/Grapevine_Leaves_Image_Dataset/Ala_Idris/Ala_Idris (38).png', '/tmp/Grapevine_Leaves_Image_Dataset/Ala_Idris/Ala_Idris (58).png', '/tmp/Grapevine_Leaves_Image_Dataset/Ala_Idris/Ala_Idris (9).png', '/tmp/Grapevine_Leaves_Image_Dataset/Ala_Idris/Ala_Idris (65).png', '/tmp/Grapevine_Leaves_Image_Dataset/Ala_Idris/Ala_Idris (90).png', '/tmp/Grapevine_Leaves_Image_Dataset/Ala_Idris/Ala_Idris (54).png', '/tmp/Grapevine_Leaves_Image_Dataset/Ala_Idris/Ala_Idris (22).png', '/tmp/Grapevine_Leaves_Image_Dataset/Ala_Idris/Ala_Idris (39).png', '/tmp/Grapevine_Leaves_Image_Dataset/Ala_Idris/Ala_Idris (87).png', '/tmp/Grapevine_Leaves_Image_Dataset/Ala_Idris/Ala_Idris (88).png', '/tmp/Grapevine_Leaves_Image_Dataset/Ala_Idris/Ala_Idris (50).png', '/tmp/Grapevine_Leaves_Image_Dataset/Ala_Idris/Ala_Idris (81).png', '/tmp/Grapevine_Leaves_Image_Dataset/Ala_Idris/Ala_Idris (23).png', '/tmp/Grapevine_Leaves_Image_Dataset/Ala_Idris/Ala_Idris (32).png', '/tmp/Grapevine_Leaves_Image_Dataset/Ala_Idris/Ala_Idris (83).png', '/tmp/Grapevine_Leaves_Image_Dataset/Ala_Idris/Ala_Idris (8).png', '/tmp/Grapevine_Leaves_Image_Dataset/Ala_Idris/Ala_Idris (62).png', '/tmp/Grapevine_Leaves_Image_Dataset/Ala_Idris/Ala_Idris (19).png', '/tmp/Grapevine_Leaves_Image_Dataset/Ala_Idris/Ala_Idris (1).png', '/tmp/Grapevine_Leaves_Image_Dataset/Ala_Idris/Ala_Idris (16).png', '/tmp/Grapevine_Leaves_Image_Dataset/Ala_Idris/Ala_Idris (98).png', '/tmp/Grapevine_Leaves_Image_Dataset/Ala_Idris/Ala_Idris (40).png', '/tmp/Grapevine_Leaves_Image_Dataset/Ala_Idris/Ala_Idris (27).png', '/tmp/Grapevine_Leaves_Image_Dataset/Ala_Idris/Ala_Idris (7).png', '/tmp/Grapevine_Leaves_Image_Dataset/Ala_Idris/Ala_Idris (96).png', '/tmp/Grapevine_Leaves_Image_Dataset/Ala_Idris/Ala_Idris (55).png', '/tmp/Grapevine_Leaves_Image_Dataset/Ala_Idris/Ala_Idris (35).png', '/tmp/Grapevine_Leaves_Image_Dataset/Ala_Idris/Ala_Idris (26).png', '/tmp/Grapevine_Leaves_Image_Dataset/Ala_Idris/Ala_Idris (45).png', '/tmp/Grapevine_Leaves_Image_Dataset/Ala_Idris/Ala_Idris (100).png', '/tmp/Grapevine_Leaves_Image_Dataset/Ala_Idris/Ala_Idris (56).png', '/tmp/Grapevine_Leaves_Image_Dataset/Ala_Idris/Ala_Idris (41).png', '/tmp/Grapevine_Leaves_Image_Dataset/Ala_Idris/Ala_Idris (2).png', '/tmp/Grapevine_Leaves_Image_Dataset/Ala_Idris/Ala_Idris (73).png', '/tmp/Grapevine_Leaves_Image_Dataset/Ala_Idris/Ala_Idris (48).png', '/tmp/Grapevine_Leaves_Image_Dataset/Ala_Idris/Ala_Idris (24).png', '/tmp/Grapevine_Leaves_Image_Dataset/Ala_Idris/Ala_Idris (12).png', '/tmp/Grapevine_Leaves_Image_Dataset/Ala_Idris/Ala_Idris (25).png', '/tmp/Grapevine_Leaves_Image_Dataset/Ala_Idris/Ala_Idris (60).png', '/tmp/Grapevine_Leaves_Image_Dataset/Ala_Idris/Ala_Idris (3).png', '/tmp/Grapevine_Leaves_Image_Dataset/Ala_Idris/Ala_Idris (70).png', '/tmp/Grapevine_Leaves_Image_Dataset/Ala_Idris/Ala_Idris (94).png', '/tmp/Grapevine_Leaves_Image_Dataset/Ala_Idris/Ala_Idris (85).png', '/tmp/Grapevine_Leaves_Image_Dataset/Ala_Idris/Ala_Idris (10).png', '/tmp/Grapevine_Leaves_Image_Dataset/Ala_Idris/Ala_Idris (44).png', '/tmp/Grapevine_Leaves_Image_Dataset/Ala_Idris/Ala_Idris (77).png', '/tmp/Grapevine_Leaves_Image_Dataset/Ala_Idris/Ala_Idris (76).png', '/tmp/Grapevine_Leaves_Image_Dataset/Ala_Idris/Ala_Idris (47).png', '/tmp/Grapevine_Leaves_Image_Dataset/Ala_Idris/Ala_Idris (46).png', '/tmp/Grapevine_Leaves_Image_Dataset/Ala_Idris/Ala_Idris (53).png', '/tmp/Grapevine_Leaves_Image_Dataset/Ala_Idris/Ala_Idris (31).png', '/tmp/Grapevine_Leaves_Image_Dataset/Ala_Idris/Ala_Idris (28).png', '/tmp/Grapevine_Leaves_Image_Dataset/Ala_Idris/Ala_Idris (11).png', '/tmp/Grapevine_Leaves_Image_Dataset/Ala_Idris/Ala_Idris (79).png', '/tmp/Grapevine_Leaves_Image_Dataset/Ala_Idris/Ala_Idris (91).png', '/tmp/Grapevine_Leaves_Image_Dataset/Ala_Idris/Ala_Idris (13).png', '/tmp/Grapevine_Leaves_Image_Dataset/Ala_Idris/Ala_Idris (63).png', '/tmp/Grapevine_Leaves_Image_Dataset/Ala_Idris/Ala_Idris (71).png', '/tmp/Grapevine_Leaves_Image_Dataset/Ala_Idris/Ala_Idris (21).png', '/tmp/Grapevine_Leaves_Image_Dataset/Ala_Idris/Ala_Idris (93).png', '/tmp/Grapevine_Leaves_Image_Dataset/Ala_Idris/Ala_Idris (69).png', '/tmp/Grapevine_Leaves_Image_Dataset/Ala_Idris/Ala_Idris (18).png', '/tmp/Grapevine_Leaves_Image_Dataset/Ala_Idris/Ala_Idris (30).png', '/tmp/Grapevine_Leaves_Image_Dataset/Ala_Idris/Ala_Idris (15).png', '/tmp/Grapevine_Leaves_Image_Dataset/Ala_Idris/Ala_Idris (29).png', '/tmp/Grapevine_Leaves_Image_Dataset/Ala_Idris/Ala_Idris (78).png', '/tmp/Grapevine_Leaves_Image_Dataset/Ala_Idris/Ala_Idris (49).png', '/tmp/Grapevine_Leaves_Image_Dataset/Ala_Idris/Ala_Idris (5).png', '/tmp/Grapevine_Leaves_Image_Dataset/Ala_Idris/Ala_Idris (34).png', '/tmp/Grapevine_Leaves_Image_Dataset/Ala_Idris/Ala_Idris (51).png', '/tmp/Grapevine_Leaves_Image_Dataset/Ala_Idris/Ala_Idris (92).png', '/tmp/Grapevine_Leaves_Image_Dataset/Ala_Idris/Ala_Idris (61).png', '/tmp/Grapevine_Leaves_Image_Dataset/Ala_Idris/Ala_Idris (80).png', '/tmp/Grapevine_Leaves_Image_Dataset/Ala_Idris/Ala_Idris (20).png', '/tmp/Grapevine_Leaves_Image_Dataset/Ala_Idris/Ala_Idris (74).png', '/tmp/Grapevine_Leaves_Image_Dataset/Ala_Idris/Ala_Idris (59).png', '/tmp/Grapevine_Leaves_Image_Dataset/Ala_Idris/Ala_Idris (99).png', '/tmp/Grapevine_Leaves_Image_Dataset/Ala_Idris/Ala_Idris (86).png', '/tmp/Grapevine_Leaves_Image_Dataset/Ala_Idris/Ala_Idris (68).png', '/tmp/Grapevine_Leaves_Image_Dataset/Ala_Idris/Ala_Idris (42).png', '/tmp/Grapevine_Leaves_Image_Dataset/Ala_Idris/Ala_Idris (75).png']\n"
          ]
        }
      ]
    },
    {
      "cell_type": "code",
      "source": [
        "label_map = {'Ak':0,\n",
        "             'Ala_Idris':1,\n",
        "             'Buzgulu':2,\n",
        "             'Dimnit':3,\n",
        "             'Nazli':4,}\n",
        "label = [label_map[os.path.basename(file).split(' ')[0]] for file in files]\n",
        "print(label)"
      ],
      "metadata": {
        "colab": {
          "base_uri": "https://localhost:8080/"
        },
        "id": "sf6Ib8tN_9PN",
        "outputId": "b318726d-d4e8-4baf-c645-4d0b697c7f70"
      },
      "execution_count": 51,
      "outputs": [
        {
          "output_type": "stream",
          "name": "stdout",
          "text": [
            "[2, 2, 2, 2, 2, 2, 2, 2, 2, 2, 2, 2, 2, 2, 2, 2, 2, 2, 2, 2, 2, 2, 2, 2, 2, 2, 2, 2, 2, 2, 2, 2, 2, 2, 2, 2, 2, 2, 2, 2, 2, 2, 2, 2, 2, 2, 2, 2, 2, 2, 2, 2, 2, 2, 2, 2, 2, 2, 2, 2, 2, 2, 2, 2, 2, 2, 2, 2, 2, 2, 2, 2, 2, 2, 2, 2, 2, 2, 2, 2, 2, 2, 2, 2, 2, 2, 2, 2, 2, 2, 2, 2, 2, 2, 2, 2, 2, 2, 2, 2, 3, 3, 3, 3, 3, 3, 3, 3, 3, 3, 3, 3, 3, 3, 3, 3, 3, 3, 3, 3, 3, 3, 3, 3, 3, 3, 3, 3, 3, 3, 3, 3, 3, 3, 3, 3, 3, 3, 3, 3, 3, 3, 3, 3, 3, 3, 3, 3, 3, 3, 3, 3, 3, 3, 3, 3, 3, 3, 3, 3, 3, 3, 3, 3, 3, 3, 3, 3, 3, 3, 3, 3, 3, 3, 3, 3, 3, 3, 3, 3, 3, 3, 3, 3, 3, 3, 3, 3, 3, 3, 3, 3, 3, 3, 3, 3, 3, 3, 3, 3, 0, 0, 0, 0, 0, 0, 0, 0, 0, 0, 0, 0, 0, 0, 0, 0, 0, 0, 0, 0, 0, 0, 0, 0, 0, 0, 0, 0, 0, 0, 0, 0, 0, 0, 0, 0, 0, 0, 0, 0, 0, 0, 0, 0, 0, 0, 0, 0, 0, 0, 0, 0, 0, 0, 0, 0, 0, 0, 0, 0, 0, 0, 0, 0, 0, 0, 0, 0, 0, 0, 0, 0, 0, 0, 0, 0, 0, 0, 0, 0, 0, 0, 0, 0, 0, 0, 0, 0, 0, 0, 0, 0, 0, 0, 0, 0, 0, 0, 0, 0, 4, 4, 4, 4, 4, 4, 4, 4, 4, 4, 4, 4, 4, 4, 4, 4, 4, 4, 4, 4, 4, 4, 4, 4, 4, 4, 4, 4, 4, 4, 4, 4, 4, 4, 4, 4, 4, 4, 4, 4, 4, 4, 4, 4, 4, 4, 4, 4, 4, 4, 4, 4, 4, 4, 4, 4, 4, 4, 4, 4, 4, 4, 4, 4, 4, 4, 4, 4, 4, 4, 4, 4, 4, 4, 4, 4, 4, 4, 4, 4, 4, 4, 4, 4, 4, 4, 4, 4, 4, 4, 4, 4, 4, 4, 4, 4, 4, 4, 4, 4, 1, 1, 1, 1, 1, 1, 1, 1, 1, 1, 1, 1, 1, 1, 1, 1, 1, 1, 1, 1, 1, 1, 1, 1, 1, 1, 1, 1, 1, 1, 1, 1, 1, 1, 1, 1, 1, 1, 1, 1, 1, 1, 1, 1, 1, 1, 1, 1, 1, 1, 1, 1, 1, 1, 1, 1, 1, 1, 1, 1, 1, 1, 1, 1, 1, 1, 1, 1, 1, 1, 1, 1, 1, 1, 1, 1, 1, 1, 1, 1, 1, 1, 1, 1, 1, 1, 1, 1, 1, 1, 1, 1, 1, 1, 1, 1, 1, 1, 1, 1]\n"
          ]
        }
      ]
    },
    {
      "cell_type": "code",
      "source": [
        "\n",
        "base_dir = path\n",
        "train_dir = os.path.join(base_dir, 'train')\n",
        "validation_dir = os.path.join(base_dir, 'validation')\n",
        "\n",
        "# Directory with our training Ak pictures\n",
        "train_Ak_dir = os.path.join(train_dir, 'Ak')\n",
        "# Directory with our training Ala_Idris pictures and go on\n",
        "train_Ala_Idris_dir = os.path.join(train_dir, 'Ala_Idris')\n",
        "train_Buzgulu_dir = os.path.join(train_dir, 'Buzgulu')\n",
        "train_Dimnit_dir = os.path.join(train_dir, 'Dimnit')\n",
        "train_Nazli_dir = os.path.join(train_dir, 'Nazli')\n",
        "\n",
        "# Directory with our validation Ak pictures\n",
        "train_Ak_dir = os.path.join(validation_dir, 'Ak')\n",
        "# Directory with our validation Ala_Idris pictures and go on\n",
        "train_Ala_Idris_dir = os.path.join(validation_dir, 'Ala_Idris')\n",
        "train_Buzgulu_dir = os.path.join(validation_dir, 'Buzgulu')\n",
        "train_Dimnit_dir = os.path.join(validation_dir, 'Dimnit')\n",
        "train_Nazli_dir = os.path.join(validation_dir, 'Nazli')\n"
      ],
      "metadata": {
        "id": "TF0dkVUURQe_"
      },
      "execution_count": 52,
      "outputs": []
    },
    {
      "cell_type": "code",
      "source": [
        "import numpy as np\n",
        "import shutil\n",
        "rootdir = '/tmp/Grapevine_Leaves_Image_Dataset'\n",
        "classes = ['Ak', 'Ala_Idris','Buzgulu','Dimnit','Nazli']\n",
        "\n",
        "test_ratio = 0.20\n",
        "for i in classes:\n",
        "  os.makedirs(rootdir +'/train/' + i)\n",
        "  os.makedirs(rootdir +'/test/' + i)\n",
        "\n",
        "  source = rootdir + '/' + i\n",
        "\n",
        "  allFileNames = os.listdir(source)\n",
        "\n",
        "  np.random.shuffle(allFileNames)\n",
        "\n",
        "  test_ratio = 0.2\n",
        "\n",
        "  train_FileNames, test_FileNames = np.split(np.array(allFileNames),\n",
        "                                                        [int(len(allFileNames)* (1 - test_ratio))])\n",
        "\n",
        "  train_FileNames = [source+'/'+ name for name in train_FileNames.tolist()]\n",
        "  test_FileNames = [source+'/' + name for name in test_FileNames.tolist()]\n",
        "\n",
        "  for name in train_FileNames:\n",
        "    shutil.copy(name, rootdir +'/train/' + i)\n",
        "\n",
        "  for name in test_FileNames:\n",
        "    shutil.copy(name, rootdir +'/test/' + i)\n"
      ],
      "metadata": {
        "id": "ZUFuBaTEU4rh"
      },
      "execution_count": 71,
      "outputs": []
    },
    {
      "cell_type": "code",
      "source": [
        "#!rm -rf /tmp/Grapevine_Leaves_Image_Dataset/train"
      ],
      "metadata": {
        "id": "3Qt5Y66cbVan"
      },
      "execution_count": 70,
      "outputs": []
    },
    {
      "cell_type": "code",
      "source": [
        ""
      ],
      "metadata": {
        "id": "ITxTGSAHcsAD"
      },
      "execution_count": null,
      "outputs": []
    }
  ]
}