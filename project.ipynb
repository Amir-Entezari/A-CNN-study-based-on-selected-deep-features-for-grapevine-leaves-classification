{
  "nbformat": 4,
  "nbformat_minor": 0,
  "metadata": {
    "colab": {
      "name": "project.ipynb",
      "provenance": [],
      "collapsed_sections": [],
      "authorship_tag": "ABX9TyOCsJPvWcNKUPKAWP71e8Jv",
      "include_colab_link": true
    },
    "kernelspec": {
      "name": "python3",
      "display_name": "Python 3"
    },
    "language_info": {
      "name": "python"
    }
  },
  "cells": [
    {
      "cell_type": "markdown",
      "metadata": {
        "id": "view-in-github",
        "colab_type": "text"
      },
      "source": [
        "<a href=\"https://colab.research.google.com/github/Amir-Entezari/data-mining-project/blob/main/project.ipynb\" target=\"_parent\"><img src=\"https://colab.research.google.com/assets/colab-badge.svg\" alt=\"Open In Colab\"/></a>"
      ]
    },
    {
      "cell_type": "markdown",
      "source": [
        "#<center>Final Project of Data Mining<center>"
      ],
      "metadata": {
        "id": "P8n_guf8OlXS"
      }
    },
    {
      "cell_type": "code",
      "source": [
        "!rm -rf /tmp/Grapevine_Leaves_Image_Dataset"
      ],
      "metadata": {
        "id": "wsmQj-pPOPbZ"
      },
      "execution_count": 20,
      "outputs": []
    },
    {
      "cell_type": "markdown",
      "source": [
        "First we import all libraries and download the dataset then extract it in a folder(I use google colab so I extract in /tmp/...)"
      ],
      "metadata": {
        "id": "UCCVtzj2O_ke"
      }
    },
    {
      "cell_type": "code",
      "execution_count": 21,
      "metadata": {
        "colab": {
          "base_uri": "https://localhost:8080/"
        },
        "id": "Wf3MlRhd6kzb",
        "outputId": "c1b1c78f-e169-460f-8e7b-b50144da4ce5"
      },
      "outputs": [
        {
          "output_type": "stream",
          "name": "stdout",
          "text": [
            "--2022-08-02 18:23:00--  https://www.muratkoklu.com/datasets/Grapevine_Leaves_Image_Dataset.zip\n",
            "Resolving www.muratkoklu.com (www.muratkoklu.com)... 185.179.25.150\n",
            "Connecting to www.muratkoklu.com (www.muratkoklu.com)|185.179.25.150|:443... connected.\n",
            "HTTP request sent, awaiting response... 200 OK\n",
            "Length: 113862245 (109M) [application/zip]\n",
            "Saving to: ‘/tmp/grapevine.zip’\n",
            "\n",
            "/tmp/grapevine.zip  100%[===================>] 108.59M  20.7MB/s    in 6.1s    \n",
            "\n",
            "2022-08-02 18:23:07 (17.7 MB/s) - ‘/tmp/grapevine.zip’ saved [113862245/113862245]\n",
            "\n"
          ]
        }
      ],
      "source": [
        "from matplotlib import pyplot as plt\n",
        "import zipfile\n",
        "import os\n",
        "\n",
        "!wget --no-check-certificate \\\n",
        "    \"https://www.muratkoklu.com/datasets/Grapevine_Leaves_Image_Dataset.zip\" \\\n",
        "    -O \"/tmp/grapevine.zip\"\n",
        "\n",
        "\n",
        "zip_ref = zipfile.ZipFile('/tmp/grapevine.zip', 'r') #Opens the zip file in read mode\n",
        "zip_ref.extractall('/tmp') #Extracts the files into the /tmp folder\n",
        "zip_ref.close()\n"
      ]
    },
    {
      "cell_type": "code",
      "source": [
        "print('Test set Ak' , len(os.listdir('/tmp/Grapevine_Leaves_Image_Dataset/Ak/')))"
      ],
      "metadata": {
        "colab": {
          "base_uri": "https://localhost:8080/"
        },
        "id": "NT8eg9iA-sxC",
        "outputId": "13afedd7-8272-4aae-c392-a86b9e19bfeb"
      },
      "execution_count": 22,
      "outputs": [
        {
          "output_type": "stream",
          "name": "stdout",
          "text": [
            "Test set Ak 100\n"
          ]
        }
      ]
    },
    {
      "cell_type": "code",
      "source": [
        "import glob\n",
        "path = '/tmp/Grapevine_Leaves_Image_Dataset/'\n",
        "files = [f for f in glob.glob(path + \"*/*.png\", recursive=True)]\n",
        "files.sort()\n",
        "print(files)"
      ],
      "metadata": {
        "colab": {
          "base_uri": "https://localhost:8080/"
        },
        "id": "vSUO7Okj_aIE",
        "outputId": "a90c7ab1-0f11-4d56-e9e1-8e855a1572ab"
      },
      "execution_count": 23,
      "outputs": [
        {
          "output_type": "stream",
          "name": "stdout",
          "text": [
            "['/tmp/Grapevine_Leaves_Image_Dataset/Ak/Ak (1).png', '/tmp/Grapevine_Leaves_Image_Dataset/Ak/Ak (10).png', '/tmp/Grapevine_Leaves_Image_Dataset/Ak/Ak (100).png', '/tmp/Grapevine_Leaves_Image_Dataset/Ak/Ak (11).png', '/tmp/Grapevine_Leaves_Image_Dataset/Ak/Ak (12).png', '/tmp/Grapevine_Leaves_Image_Dataset/Ak/Ak (13).png', '/tmp/Grapevine_Leaves_Image_Dataset/Ak/Ak (14).png', '/tmp/Grapevine_Leaves_Image_Dataset/Ak/Ak (15).png', '/tmp/Grapevine_Leaves_Image_Dataset/Ak/Ak (16).png', '/tmp/Grapevine_Leaves_Image_Dataset/Ak/Ak (17).png', '/tmp/Grapevine_Leaves_Image_Dataset/Ak/Ak (18).png', '/tmp/Grapevine_Leaves_Image_Dataset/Ak/Ak (19).png', '/tmp/Grapevine_Leaves_Image_Dataset/Ak/Ak (2).png', '/tmp/Grapevine_Leaves_Image_Dataset/Ak/Ak (20).png', '/tmp/Grapevine_Leaves_Image_Dataset/Ak/Ak (21).png', '/tmp/Grapevine_Leaves_Image_Dataset/Ak/Ak (22).png', '/tmp/Grapevine_Leaves_Image_Dataset/Ak/Ak (23).png', '/tmp/Grapevine_Leaves_Image_Dataset/Ak/Ak (24).png', '/tmp/Grapevine_Leaves_Image_Dataset/Ak/Ak (25).png', '/tmp/Grapevine_Leaves_Image_Dataset/Ak/Ak (26).png', '/tmp/Grapevine_Leaves_Image_Dataset/Ak/Ak (27).png', '/tmp/Grapevine_Leaves_Image_Dataset/Ak/Ak (28).png', '/tmp/Grapevine_Leaves_Image_Dataset/Ak/Ak (29).png', '/tmp/Grapevine_Leaves_Image_Dataset/Ak/Ak (3).png', '/tmp/Grapevine_Leaves_Image_Dataset/Ak/Ak (30).png', '/tmp/Grapevine_Leaves_Image_Dataset/Ak/Ak (31).png', '/tmp/Grapevine_Leaves_Image_Dataset/Ak/Ak (32).png', '/tmp/Grapevine_Leaves_Image_Dataset/Ak/Ak (33).png', '/tmp/Grapevine_Leaves_Image_Dataset/Ak/Ak (34).png', '/tmp/Grapevine_Leaves_Image_Dataset/Ak/Ak (35).png', '/tmp/Grapevine_Leaves_Image_Dataset/Ak/Ak (36).png', '/tmp/Grapevine_Leaves_Image_Dataset/Ak/Ak (37).png', '/tmp/Grapevine_Leaves_Image_Dataset/Ak/Ak (38).png', '/tmp/Grapevine_Leaves_Image_Dataset/Ak/Ak (39).png', '/tmp/Grapevine_Leaves_Image_Dataset/Ak/Ak (4).png', '/tmp/Grapevine_Leaves_Image_Dataset/Ak/Ak (40).png', '/tmp/Grapevine_Leaves_Image_Dataset/Ak/Ak (41).png', '/tmp/Grapevine_Leaves_Image_Dataset/Ak/Ak (42).png', '/tmp/Grapevine_Leaves_Image_Dataset/Ak/Ak (43).png', '/tmp/Grapevine_Leaves_Image_Dataset/Ak/Ak (44).png', '/tmp/Grapevine_Leaves_Image_Dataset/Ak/Ak (45).png', '/tmp/Grapevine_Leaves_Image_Dataset/Ak/Ak (46).png', '/tmp/Grapevine_Leaves_Image_Dataset/Ak/Ak (47).png', '/tmp/Grapevine_Leaves_Image_Dataset/Ak/Ak (48).png', '/tmp/Grapevine_Leaves_Image_Dataset/Ak/Ak (49).png', '/tmp/Grapevine_Leaves_Image_Dataset/Ak/Ak (5).png', '/tmp/Grapevine_Leaves_Image_Dataset/Ak/Ak (50).png', '/tmp/Grapevine_Leaves_Image_Dataset/Ak/Ak (51).png', '/tmp/Grapevine_Leaves_Image_Dataset/Ak/Ak (52).png', '/tmp/Grapevine_Leaves_Image_Dataset/Ak/Ak (53).png', '/tmp/Grapevine_Leaves_Image_Dataset/Ak/Ak (54).png', '/tmp/Grapevine_Leaves_Image_Dataset/Ak/Ak (55).png', '/tmp/Grapevine_Leaves_Image_Dataset/Ak/Ak (56).png', '/tmp/Grapevine_Leaves_Image_Dataset/Ak/Ak (57).png', '/tmp/Grapevine_Leaves_Image_Dataset/Ak/Ak (58).png', '/tmp/Grapevine_Leaves_Image_Dataset/Ak/Ak (59).png', '/tmp/Grapevine_Leaves_Image_Dataset/Ak/Ak (6).png', '/tmp/Grapevine_Leaves_Image_Dataset/Ak/Ak (60).png', '/tmp/Grapevine_Leaves_Image_Dataset/Ak/Ak (61).png', '/tmp/Grapevine_Leaves_Image_Dataset/Ak/Ak (62).png', '/tmp/Grapevine_Leaves_Image_Dataset/Ak/Ak (63).png', '/tmp/Grapevine_Leaves_Image_Dataset/Ak/Ak (64).png', '/tmp/Grapevine_Leaves_Image_Dataset/Ak/Ak (65).png', '/tmp/Grapevine_Leaves_Image_Dataset/Ak/Ak (66).png', '/tmp/Grapevine_Leaves_Image_Dataset/Ak/Ak (67).png', '/tmp/Grapevine_Leaves_Image_Dataset/Ak/Ak (68).png', '/tmp/Grapevine_Leaves_Image_Dataset/Ak/Ak (69).png', '/tmp/Grapevine_Leaves_Image_Dataset/Ak/Ak (7).png', '/tmp/Grapevine_Leaves_Image_Dataset/Ak/Ak (70).png', '/tmp/Grapevine_Leaves_Image_Dataset/Ak/Ak (71).png', '/tmp/Grapevine_Leaves_Image_Dataset/Ak/Ak (72).png', '/tmp/Grapevine_Leaves_Image_Dataset/Ak/Ak (73).png', '/tmp/Grapevine_Leaves_Image_Dataset/Ak/Ak (74).png', '/tmp/Grapevine_Leaves_Image_Dataset/Ak/Ak (75).png', '/tmp/Grapevine_Leaves_Image_Dataset/Ak/Ak (76).png', '/tmp/Grapevine_Leaves_Image_Dataset/Ak/Ak (77).png', '/tmp/Grapevine_Leaves_Image_Dataset/Ak/Ak (78).png', '/tmp/Grapevine_Leaves_Image_Dataset/Ak/Ak (79).png', '/tmp/Grapevine_Leaves_Image_Dataset/Ak/Ak (8).png', '/tmp/Grapevine_Leaves_Image_Dataset/Ak/Ak (80).png', '/tmp/Grapevine_Leaves_Image_Dataset/Ak/Ak (81).png', '/tmp/Grapevine_Leaves_Image_Dataset/Ak/Ak (82).png', '/tmp/Grapevine_Leaves_Image_Dataset/Ak/Ak (83).png', '/tmp/Grapevine_Leaves_Image_Dataset/Ak/Ak (84).png', '/tmp/Grapevine_Leaves_Image_Dataset/Ak/Ak (85).png', '/tmp/Grapevine_Leaves_Image_Dataset/Ak/Ak (86).png', '/tmp/Grapevine_Leaves_Image_Dataset/Ak/Ak (87).png', '/tmp/Grapevine_Leaves_Image_Dataset/Ak/Ak (88).png', '/tmp/Grapevine_Leaves_Image_Dataset/Ak/Ak (89).png', '/tmp/Grapevine_Leaves_Image_Dataset/Ak/Ak (9).png', '/tmp/Grapevine_Leaves_Image_Dataset/Ak/Ak (90).png', '/tmp/Grapevine_Leaves_Image_Dataset/Ak/Ak (91).png', '/tmp/Grapevine_Leaves_Image_Dataset/Ak/Ak (92).png', '/tmp/Grapevine_Leaves_Image_Dataset/Ak/Ak (93).png', '/tmp/Grapevine_Leaves_Image_Dataset/Ak/Ak (94).png', '/tmp/Grapevine_Leaves_Image_Dataset/Ak/Ak (95).png', '/tmp/Grapevine_Leaves_Image_Dataset/Ak/Ak (96).png', '/tmp/Grapevine_Leaves_Image_Dataset/Ak/Ak (97).png', '/tmp/Grapevine_Leaves_Image_Dataset/Ak/Ak (98).png', '/tmp/Grapevine_Leaves_Image_Dataset/Ak/Ak (99).png', '/tmp/Grapevine_Leaves_Image_Dataset/Ala_Idris/Ala_Idris (1).png', '/tmp/Grapevine_Leaves_Image_Dataset/Ala_Idris/Ala_Idris (10).png', '/tmp/Grapevine_Leaves_Image_Dataset/Ala_Idris/Ala_Idris (100).png', '/tmp/Grapevine_Leaves_Image_Dataset/Ala_Idris/Ala_Idris (11).png', '/tmp/Grapevine_Leaves_Image_Dataset/Ala_Idris/Ala_Idris (12).png', '/tmp/Grapevine_Leaves_Image_Dataset/Ala_Idris/Ala_Idris (13).png', '/tmp/Grapevine_Leaves_Image_Dataset/Ala_Idris/Ala_Idris (14).png', '/tmp/Grapevine_Leaves_Image_Dataset/Ala_Idris/Ala_Idris (15).png', '/tmp/Grapevine_Leaves_Image_Dataset/Ala_Idris/Ala_Idris (16).png', '/tmp/Grapevine_Leaves_Image_Dataset/Ala_Idris/Ala_Idris (17).png', '/tmp/Grapevine_Leaves_Image_Dataset/Ala_Idris/Ala_Idris (18).png', '/tmp/Grapevine_Leaves_Image_Dataset/Ala_Idris/Ala_Idris (19).png', '/tmp/Grapevine_Leaves_Image_Dataset/Ala_Idris/Ala_Idris (2).png', '/tmp/Grapevine_Leaves_Image_Dataset/Ala_Idris/Ala_Idris (20).png', '/tmp/Grapevine_Leaves_Image_Dataset/Ala_Idris/Ala_Idris (21).png', '/tmp/Grapevine_Leaves_Image_Dataset/Ala_Idris/Ala_Idris (22).png', '/tmp/Grapevine_Leaves_Image_Dataset/Ala_Idris/Ala_Idris (23).png', '/tmp/Grapevine_Leaves_Image_Dataset/Ala_Idris/Ala_Idris (24).png', '/tmp/Grapevine_Leaves_Image_Dataset/Ala_Idris/Ala_Idris (25).png', '/tmp/Grapevine_Leaves_Image_Dataset/Ala_Idris/Ala_Idris (26).png', '/tmp/Grapevine_Leaves_Image_Dataset/Ala_Idris/Ala_Idris (27).png', '/tmp/Grapevine_Leaves_Image_Dataset/Ala_Idris/Ala_Idris (28).png', '/tmp/Grapevine_Leaves_Image_Dataset/Ala_Idris/Ala_Idris (29).png', '/tmp/Grapevine_Leaves_Image_Dataset/Ala_Idris/Ala_Idris (3).png', '/tmp/Grapevine_Leaves_Image_Dataset/Ala_Idris/Ala_Idris (30).png', '/tmp/Grapevine_Leaves_Image_Dataset/Ala_Idris/Ala_Idris (31).png', '/tmp/Grapevine_Leaves_Image_Dataset/Ala_Idris/Ala_Idris (32).png', '/tmp/Grapevine_Leaves_Image_Dataset/Ala_Idris/Ala_Idris (33).png', '/tmp/Grapevine_Leaves_Image_Dataset/Ala_Idris/Ala_Idris (34).png', '/tmp/Grapevine_Leaves_Image_Dataset/Ala_Idris/Ala_Idris (35).png', '/tmp/Grapevine_Leaves_Image_Dataset/Ala_Idris/Ala_Idris (36).png', '/tmp/Grapevine_Leaves_Image_Dataset/Ala_Idris/Ala_Idris (37).png', '/tmp/Grapevine_Leaves_Image_Dataset/Ala_Idris/Ala_Idris (38).png', '/tmp/Grapevine_Leaves_Image_Dataset/Ala_Idris/Ala_Idris (39).png', '/tmp/Grapevine_Leaves_Image_Dataset/Ala_Idris/Ala_Idris (4).png', '/tmp/Grapevine_Leaves_Image_Dataset/Ala_Idris/Ala_Idris (40).png', '/tmp/Grapevine_Leaves_Image_Dataset/Ala_Idris/Ala_Idris (41).png', '/tmp/Grapevine_Leaves_Image_Dataset/Ala_Idris/Ala_Idris (42).png', '/tmp/Grapevine_Leaves_Image_Dataset/Ala_Idris/Ala_Idris (43).png', '/tmp/Grapevine_Leaves_Image_Dataset/Ala_Idris/Ala_Idris (44).png', '/tmp/Grapevine_Leaves_Image_Dataset/Ala_Idris/Ala_Idris (45).png', '/tmp/Grapevine_Leaves_Image_Dataset/Ala_Idris/Ala_Idris (46).png', '/tmp/Grapevine_Leaves_Image_Dataset/Ala_Idris/Ala_Idris (47).png', '/tmp/Grapevine_Leaves_Image_Dataset/Ala_Idris/Ala_Idris (48).png', '/tmp/Grapevine_Leaves_Image_Dataset/Ala_Idris/Ala_Idris (49).png', '/tmp/Grapevine_Leaves_Image_Dataset/Ala_Idris/Ala_Idris (5).png', '/tmp/Grapevine_Leaves_Image_Dataset/Ala_Idris/Ala_Idris (50).png', '/tmp/Grapevine_Leaves_Image_Dataset/Ala_Idris/Ala_Idris (51).png', '/tmp/Grapevine_Leaves_Image_Dataset/Ala_Idris/Ala_Idris (52).png', '/tmp/Grapevine_Leaves_Image_Dataset/Ala_Idris/Ala_Idris (53).png', '/tmp/Grapevine_Leaves_Image_Dataset/Ala_Idris/Ala_Idris (54).png', '/tmp/Grapevine_Leaves_Image_Dataset/Ala_Idris/Ala_Idris (55).png', '/tmp/Grapevine_Leaves_Image_Dataset/Ala_Idris/Ala_Idris (56).png', '/tmp/Grapevine_Leaves_Image_Dataset/Ala_Idris/Ala_Idris (57).png', '/tmp/Grapevine_Leaves_Image_Dataset/Ala_Idris/Ala_Idris (58).png', '/tmp/Grapevine_Leaves_Image_Dataset/Ala_Idris/Ala_Idris (59).png', '/tmp/Grapevine_Leaves_Image_Dataset/Ala_Idris/Ala_Idris (6).png', '/tmp/Grapevine_Leaves_Image_Dataset/Ala_Idris/Ala_Idris (60).png', '/tmp/Grapevine_Leaves_Image_Dataset/Ala_Idris/Ala_Idris (61).png', '/tmp/Grapevine_Leaves_Image_Dataset/Ala_Idris/Ala_Idris (62).png', '/tmp/Grapevine_Leaves_Image_Dataset/Ala_Idris/Ala_Idris (63).png', '/tmp/Grapevine_Leaves_Image_Dataset/Ala_Idris/Ala_Idris (64).png', '/tmp/Grapevine_Leaves_Image_Dataset/Ala_Idris/Ala_Idris (65).png', '/tmp/Grapevine_Leaves_Image_Dataset/Ala_Idris/Ala_Idris (66).png', '/tmp/Grapevine_Leaves_Image_Dataset/Ala_Idris/Ala_Idris (67).png', '/tmp/Grapevine_Leaves_Image_Dataset/Ala_Idris/Ala_Idris (68).png', '/tmp/Grapevine_Leaves_Image_Dataset/Ala_Idris/Ala_Idris (69).png', '/tmp/Grapevine_Leaves_Image_Dataset/Ala_Idris/Ala_Idris (7).png', '/tmp/Grapevine_Leaves_Image_Dataset/Ala_Idris/Ala_Idris (70).png', '/tmp/Grapevine_Leaves_Image_Dataset/Ala_Idris/Ala_Idris (71).png', '/tmp/Grapevine_Leaves_Image_Dataset/Ala_Idris/Ala_Idris (72).png', '/tmp/Grapevine_Leaves_Image_Dataset/Ala_Idris/Ala_Idris (73).png', '/tmp/Grapevine_Leaves_Image_Dataset/Ala_Idris/Ala_Idris (74).png', '/tmp/Grapevine_Leaves_Image_Dataset/Ala_Idris/Ala_Idris (75).png', '/tmp/Grapevine_Leaves_Image_Dataset/Ala_Idris/Ala_Idris (76).png', '/tmp/Grapevine_Leaves_Image_Dataset/Ala_Idris/Ala_Idris (77).png', '/tmp/Grapevine_Leaves_Image_Dataset/Ala_Idris/Ala_Idris (78).png', '/tmp/Grapevine_Leaves_Image_Dataset/Ala_Idris/Ala_Idris (79).png', '/tmp/Grapevine_Leaves_Image_Dataset/Ala_Idris/Ala_Idris (8).png', '/tmp/Grapevine_Leaves_Image_Dataset/Ala_Idris/Ala_Idris (80).png', '/tmp/Grapevine_Leaves_Image_Dataset/Ala_Idris/Ala_Idris (81).png', '/tmp/Grapevine_Leaves_Image_Dataset/Ala_Idris/Ala_Idris (82).png', '/tmp/Grapevine_Leaves_Image_Dataset/Ala_Idris/Ala_Idris (83).png', '/tmp/Grapevine_Leaves_Image_Dataset/Ala_Idris/Ala_Idris (84).png', '/tmp/Grapevine_Leaves_Image_Dataset/Ala_Idris/Ala_Idris (85).png', '/tmp/Grapevine_Leaves_Image_Dataset/Ala_Idris/Ala_Idris (86).png', '/tmp/Grapevine_Leaves_Image_Dataset/Ala_Idris/Ala_Idris (87).png', '/tmp/Grapevine_Leaves_Image_Dataset/Ala_Idris/Ala_Idris (88).png', '/tmp/Grapevine_Leaves_Image_Dataset/Ala_Idris/Ala_Idris (89).png', '/tmp/Grapevine_Leaves_Image_Dataset/Ala_Idris/Ala_Idris (9).png', '/tmp/Grapevine_Leaves_Image_Dataset/Ala_Idris/Ala_Idris (90).png', '/tmp/Grapevine_Leaves_Image_Dataset/Ala_Idris/Ala_Idris (91).png', '/tmp/Grapevine_Leaves_Image_Dataset/Ala_Idris/Ala_Idris (92).png', '/tmp/Grapevine_Leaves_Image_Dataset/Ala_Idris/Ala_Idris (93).png', '/tmp/Grapevine_Leaves_Image_Dataset/Ala_Idris/Ala_Idris (94).png', '/tmp/Grapevine_Leaves_Image_Dataset/Ala_Idris/Ala_Idris (95).png', '/tmp/Grapevine_Leaves_Image_Dataset/Ala_Idris/Ala_Idris (96).png', '/tmp/Grapevine_Leaves_Image_Dataset/Ala_Idris/Ala_Idris (97).png', '/tmp/Grapevine_Leaves_Image_Dataset/Ala_Idris/Ala_Idris (98).png', '/tmp/Grapevine_Leaves_Image_Dataset/Ala_Idris/Ala_Idris (99).png', '/tmp/Grapevine_Leaves_Image_Dataset/Buzgulu/Buzgulu (1).png', '/tmp/Grapevine_Leaves_Image_Dataset/Buzgulu/Buzgulu (10).png', '/tmp/Grapevine_Leaves_Image_Dataset/Buzgulu/Buzgulu (100).png', '/tmp/Grapevine_Leaves_Image_Dataset/Buzgulu/Buzgulu (11).png', '/tmp/Grapevine_Leaves_Image_Dataset/Buzgulu/Buzgulu (12).png', '/tmp/Grapevine_Leaves_Image_Dataset/Buzgulu/Buzgulu (13).png', '/tmp/Grapevine_Leaves_Image_Dataset/Buzgulu/Buzgulu (14).png', '/tmp/Grapevine_Leaves_Image_Dataset/Buzgulu/Buzgulu (15).png', '/tmp/Grapevine_Leaves_Image_Dataset/Buzgulu/Buzgulu (16).png', '/tmp/Grapevine_Leaves_Image_Dataset/Buzgulu/Buzgulu (17).png', '/tmp/Grapevine_Leaves_Image_Dataset/Buzgulu/Buzgulu (18).png', '/tmp/Grapevine_Leaves_Image_Dataset/Buzgulu/Buzgulu (19).png', '/tmp/Grapevine_Leaves_Image_Dataset/Buzgulu/Buzgulu (2).png', '/tmp/Grapevine_Leaves_Image_Dataset/Buzgulu/Buzgulu (20).png', '/tmp/Grapevine_Leaves_Image_Dataset/Buzgulu/Buzgulu (21).png', '/tmp/Grapevine_Leaves_Image_Dataset/Buzgulu/Buzgulu (22).png', '/tmp/Grapevine_Leaves_Image_Dataset/Buzgulu/Buzgulu (23).png', '/tmp/Grapevine_Leaves_Image_Dataset/Buzgulu/Buzgulu (24).png', '/tmp/Grapevine_Leaves_Image_Dataset/Buzgulu/Buzgulu (25).png', '/tmp/Grapevine_Leaves_Image_Dataset/Buzgulu/Buzgulu (26).png', '/tmp/Grapevine_Leaves_Image_Dataset/Buzgulu/Buzgulu (27).png', '/tmp/Grapevine_Leaves_Image_Dataset/Buzgulu/Buzgulu (28).png', '/tmp/Grapevine_Leaves_Image_Dataset/Buzgulu/Buzgulu (29).png', '/tmp/Grapevine_Leaves_Image_Dataset/Buzgulu/Buzgulu (3).png', '/tmp/Grapevine_Leaves_Image_Dataset/Buzgulu/Buzgulu (30).png', '/tmp/Grapevine_Leaves_Image_Dataset/Buzgulu/Buzgulu (31).png', '/tmp/Grapevine_Leaves_Image_Dataset/Buzgulu/Buzgulu (32).png', '/tmp/Grapevine_Leaves_Image_Dataset/Buzgulu/Buzgulu (33).png', '/tmp/Grapevine_Leaves_Image_Dataset/Buzgulu/Buzgulu (34).png', '/tmp/Grapevine_Leaves_Image_Dataset/Buzgulu/Buzgulu (35).png', '/tmp/Grapevine_Leaves_Image_Dataset/Buzgulu/Buzgulu (36).png', '/tmp/Grapevine_Leaves_Image_Dataset/Buzgulu/Buzgulu (37).png', '/tmp/Grapevine_Leaves_Image_Dataset/Buzgulu/Buzgulu (38).png', '/tmp/Grapevine_Leaves_Image_Dataset/Buzgulu/Buzgulu (39).png', '/tmp/Grapevine_Leaves_Image_Dataset/Buzgulu/Buzgulu (4).png', '/tmp/Grapevine_Leaves_Image_Dataset/Buzgulu/Buzgulu (40).png', '/tmp/Grapevine_Leaves_Image_Dataset/Buzgulu/Buzgulu (41).png', '/tmp/Grapevine_Leaves_Image_Dataset/Buzgulu/Buzgulu (42).png', '/tmp/Grapevine_Leaves_Image_Dataset/Buzgulu/Buzgulu (43).png', '/tmp/Grapevine_Leaves_Image_Dataset/Buzgulu/Buzgulu (44).png', '/tmp/Grapevine_Leaves_Image_Dataset/Buzgulu/Buzgulu (45).png', '/tmp/Grapevine_Leaves_Image_Dataset/Buzgulu/Buzgulu (46).png', '/tmp/Grapevine_Leaves_Image_Dataset/Buzgulu/Buzgulu (47).png', '/tmp/Grapevine_Leaves_Image_Dataset/Buzgulu/Buzgulu (48).png', '/tmp/Grapevine_Leaves_Image_Dataset/Buzgulu/Buzgulu (49).png', '/tmp/Grapevine_Leaves_Image_Dataset/Buzgulu/Buzgulu (5).png', '/tmp/Grapevine_Leaves_Image_Dataset/Buzgulu/Buzgulu (50).png', '/tmp/Grapevine_Leaves_Image_Dataset/Buzgulu/Buzgulu (51).png', '/tmp/Grapevine_Leaves_Image_Dataset/Buzgulu/Buzgulu (52).png', '/tmp/Grapevine_Leaves_Image_Dataset/Buzgulu/Buzgulu (53).png', '/tmp/Grapevine_Leaves_Image_Dataset/Buzgulu/Buzgulu (54).png', '/tmp/Grapevine_Leaves_Image_Dataset/Buzgulu/Buzgulu (55).png', '/tmp/Grapevine_Leaves_Image_Dataset/Buzgulu/Buzgulu (56).png', '/tmp/Grapevine_Leaves_Image_Dataset/Buzgulu/Buzgulu (57).png', '/tmp/Grapevine_Leaves_Image_Dataset/Buzgulu/Buzgulu (58).png', '/tmp/Grapevine_Leaves_Image_Dataset/Buzgulu/Buzgulu (59).png', '/tmp/Grapevine_Leaves_Image_Dataset/Buzgulu/Buzgulu (6).png', '/tmp/Grapevine_Leaves_Image_Dataset/Buzgulu/Buzgulu (60).png', '/tmp/Grapevine_Leaves_Image_Dataset/Buzgulu/Buzgulu (61).png', '/tmp/Grapevine_Leaves_Image_Dataset/Buzgulu/Buzgulu (62).png', '/tmp/Grapevine_Leaves_Image_Dataset/Buzgulu/Buzgulu (63).png', '/tmp/Grapevine_Leaves_Image_Dataset/Buzgulu/Buzgulu (64).png', '/tmp/Grapevine_Leaves_Image_Dataset/Buzgulu/Buzgulu (65).png', '/tmp/Grapevine_Leaves_Image_Dataset/Buzgulu/Buzgulu (66).png', '/tmp/Grapevine_Leaves_Image_Dataset/Buzgulu/Buzgulu (67).png', '/tmp/Grapevine_Leaves_Image_Dataset/Buzgulu/Buzgulu (68).png', '/tmp/Grapevine_Leaves_Image_Dataset/Buzgulu/Buzgulu (69).png', '/tmp/Grapevine_Leaves_Image_Dataset/Buzgulu/Buzgulu (7).png', '/tmp/Grapevine_Leaves_Image_Dataset/Buzgulu/Buzgulu (70).png', '/tmp/Grapevine_Leaves_Image_Dataset/Buzgulu/Buzgulu (71).png', '/tmp/Grapevine_Leaves_Image_Dataset/Buzgulu/Buzgulu (72).png', '/tmp/Grapevine_Leaves_Image_Dataset/Buzgulu/Buzgulu (73).png', '/tmp/Grapevine_Leaves_Image_Dataset/Buzgulu/Buzgulu (74).png', '/tmp/Grapevine_Leaves_Image_Dataset/Buzgulu/Buzgulu (75).png', '/tmp/Grapevine_Leaves_Image_Dataset/Buzgulu/Buzgulu (76).png', '/tmp/Grapevine_Leaves_Image_Dataset/Buzgulu/Buzgulu (77).png', '/tmp/Grapevine_Leaves_Image_Dataset/Buzgulu/Buzgulu (78).png', '/tmp/Grapevine_Leaves_Image_Dataset/Buzgulu/Buzgulu (79).png', '/tmp/Grapevine_Leaves_Image_Dataset/Buzgulu/Buzgulu (8).png', '/tmp/Grapevine_Leaves_Image_Dataset/Buzgulu/Buzgulu (80).png', '/tmp/Grapevine_Leaves_Image_Dataset/Buzgulu/Buzgulu (81).png', '/tmp/Grapevine_Leaves_Image_Dataset/Buzgulu/Buzgulu (82).png', '/tmp/Grapevine_Leaves_Image_Dataset/Buzgulu/Buzgulu (83).png', '/tmp/Grapevine_Leaves_Image_Dataset/Buzgulu/Buzgulu (84).png', '/tmp/Grapevine_Leaves_Image_Dataset/Buzgulu/Buzgulu (85).png', '/tmp/Grapevine_Leaves_Image_Dataset/Buzgulu/Buzgulu (86).png', '/tmp/Grapevine_Leaves_Image_Dataset/Buzgulu/Buzgulu (87).png', '/tmp/Grapevine_Leaves_Image_Dataset/Buzgulu/Buzgulu (88).png', '/tmp/Grapevine_Leaves_Image_Dataset/Buzgulu/Buzgulu (89).png', '/tmp/Grapevine_Leaves_Image_Dataset/Buzgulu/Buzgulu (9).png', '/tmp/Grapevine_Leaves_Image_Dataset/Buzgulu/Buzgulu (90).png', '/tmp/Grapevine_Leaves_Image_Dataset/Buzgulu/Buzgulu (91).png', '/tmp/Grapevine_Leaves_Image_Dataset/Buzgulu/Buzgulu (92).png', '/tmp/Grapevine_Leaves_Image_Dataset/Buzgulu/Buzgulu (93).png', '/tmp/Grapevine_Leaves_Image_Dataset/Buzgulu/Buzgulu (94).png', '/tmp/Grapevine_Leaves_Image_Dataset/Buzgulu/Buzgulu (95).png', '/tmp/Grapevine_Leaves_Image_Dataset/Buzgulu/Buzgulu (96).png', '/tmp/Grapevine_Leaves_Image_Dataset/Buzgulu/Buzgulu (97).png', '/tmp/Grapevine_Leaves_Image_Dataset/Buzgulu/Buzgulu (98).png', '/tmp/Grapevine_Leaves_Image_Dataset/Buzgulu/Buzgulu (99).png', '/tmp/Grapevine_Leaves_Image_Dataset/Dimnit/Dimnit (1).png', '/tmp/Grapevine_Leaves_Image_Dataset/Dimnit/Dimnit (10).png', '/tmp/Grapevine_Leaves_Image_Dataset/Dimnit/Dimnit (100).png', '/tmp/Grapevine_Leaves_Image_Dataset/Dimnit/Dimnit (11).png', '/tmp/Grapevine_Leaves_Image_Dataset/Dimnit/Dimnit (12).png', '/tmp/Grapevine_Leaves_Image_Dataset/Dimnit/Dimnit (13).png', '/tmp/Grapevine_Leaves_Image_Dataset/Dimnit/Dimnit (14).png', '/tmp/Grapevine_Leaves_Image_Dataset/Dimnit/Dimnit (15).png', '/tmp/Grapevine_Leaves_Image_Dataset/Dimnit/Dimnit (16).png', '/tmp/Grapevine_Leaves_Image_Dataset/Dimnit/Dimnit (17).png', '/tmp/Grapevine_Leaves_Image_Dataset/Dimnit/Dimnit (18).png', '/tmp/Grapevine_Leaves_Image_Dataset/Dimnit/Dimnit (19).png', '/tmp/Grapevine_Leaves_Image_Dataset/Dimnit/Dimnit (2).png', '/tmp/Grapevine_Leaves_Image_Dataset/Dimnit/Dimnit (20).png', '/tmp/Grapevine_Leaves_Image_Dataset/Dimnit/Dimnit (21).png', '/tmp/Grapevine_Leaves_Image_Dataset/Dimnit/Dimnit (22).png', '/tmp/Grapevine_Leaves_Image_Dataset/Dimnit/Dimnit (23).png', '/tmp/Grapevine_Leaves_Image_Dataset/Dimnit/Dimnit (24).png', '/tmp/Grapevine_Leaves_Image_Dataset/Dimnit/Dimnit (25).png', '/tmp/Grapevine_Leaves_Image_Dataset/Dimnit/Dimnit (26).png', '/tmp/Grapevine_Leaves_Image_Dataset/Dimnit/Dimnit (27).png', '/tmp/Grapevine_Leaves_Image_Dataset/Dimnit/Dimnit (28).png', '/tmp/Grapevine_Leaves_Image_Dataset/Dimnit/Dimnit (29).png', '/tmp/Grapevine_Leaves_Image_Dataset/Dimnit/Dimnit (3).png', '/tmp/Grapevine_Leaves_Image_Dataset/Dimnit/Dimnit (30).png', '/tmp/Grapevine_Leaves_Image_Dataset/Dimnit/Dimnit (31).png', '/tmp/Grapevine_Leaves_Image_Dataset/Dimnit/Dimnit (32).png', '/tmp/Grapevine_Leaves_Image_Dataset/Dimnit/Dimnit (33).png', '/tmp/Grapevine_Leaves_Image_Dataset/Dimnit/Dimnit (34).png', '/tmp/Grapevine_Leaves_Image_Dataset/Dimnit/Dimnit (35).png', '/tmp/Grapevine_Leaves_Image_Dataset/Dimnit/Dimnit (36).png', '/tmp/Grapevine_Leaves_Image_Dataset/Dimnit/Dimnit (37).png', '/tmp/Grapevine_Leaves_Image_Dataset/Dimnit/Dimnit (38).png', '/tmp/Grapevine_Leaves_Image_Dataset/Dimnit/Dimnit (39).png', '/tmp/Grapevine_Leaves_Image_Dataset/Dimnit/Dimnit (4).png', '/tmp/Grapevine_Leaves_Image_Dataset/Dimnit/Dimnit (40).png', '/tmp/Grapevine_Leaves_Image_Dataset/Dimnit/Dimnit (41).png', '/tmp/Grapevine_Leaves_Image_Dataset/Dimnit/Dimnit (42).png', '/tmp/Grapevine_Leaves_Image_Dataset/Dimnit/Dimnit (43).png', '/tmp/Grapevine_Leaves_Image_Dataset/Dimnit/Dimnit (44).png', '/tmp/Grapevine_Leaves_Image_Dataset/Dimnit/Dimnit (45).png', '/tmp/Grapevine_Leaves_Image_Dataset/Dimnit/Dimnit (46).png', '/tmp/Grapevine_Leaves_Image_Dataset/Dimnit/Dimnit (47).png', '/tmp/Grapevine_Leaves_Image_Dataset/Dimnit/Dimnit (48).png', '/tmp/Grapevine_Leaves_Image_Dataset/Dimnit/Dimnit (49).png', '/tmp/Grapevine_Leaves_Image_Dataset/Dimnit/Dimnit (5).png', '/tmp/Grapevine_Leaves_Image_Dataset/Dimnit/Dimnit (50).png', '/tmp/Grapevine_Leaves_Image_Dataset/Dimnit/Dimnit (51).png', '/tmp/Grapevine_Leaves_Image_Dataset/Dimnit/Dimnit (52).png', '/tmp/Grapevine_Leaves_Image_Dataset/Dimnit/Dimnit (53).png', '/tmp/Grapevine_Leaves_Image_Dataset/Dimnit/Dimnit (54).png', '/tmp/Grapevine_Leaves_Image_Dataset/Dimnit/Dimnit (55).png', '/tmp/Grapevine_Leaves_Image_Dataset/Dimnit/Dimnit (56).png', '/tmp/Grapevine_Leaves_Image_Dataset/Dimnit/Dimnit (57).png', '/tmp/Grapevine_Leaves_Image_Dataset/Dimnit/Dimnit (58).png', '/tmp/Grapevine_Leaves_Image_Dataset/Dimnit/Dimnit (59).png', '/tmp/Grapevine_Leaves_Image_Dataset/Dimnit/Dimnit (6).png', '/tmp/Grapevine_Leaves_Image_Dataset/Dimnit/Dimnit (60).png', '/tmp/Grapevine_Leaves_Image_Dataset/Dimnit/Dimnit (61).png', '/tmp/Grapevine_Leaves_Image_Dataset/Dimnit/Dimnit (62).png', '/tmp/Grapevine_Leaves_Image_Dataset/Dimnit/Dimnit (63).png', '/tmp/Grapevine_Leaves_Image_Dataset/Dimnit/Dimnit (64).png', '/tmp/Grapevine_Leaves_Image_Dataset/Dimnit/Dimnit (65).png', '/tmp/Grapevine_Leaves_Image_Dataset/Dimnit/Dimnit (66).png', '/tmp/Grapevine_Leaves_Image_Dataset/Dimnit/Dimnit (67).png', '/tmp/Grapevine_Leaves_Image_Dataset/Dimnit/Dimnit (68).png', '/tmp/Grapevine_Leaves_Image_Dataset/Dimnit/Dimnit (69).png', '/tmp/Grapevine_Leaves_Image_Dataset/Dimnit/Dimnit (7).png', '/tmp/Grapevine_Leaves_Image_Dataset/Dimnit/Dimnit (70).png', '/tmp/Grapevine_Leaves_Image_Dataset/Dimnit/Dimnit (71).png', '/tmp/Grapevine_Leaves_Image_Dataset/Dimnit/Dimnit (72).png', '/tmp/Grapevine_Leaves_Image_Dataset/Dimnit/Dimnit (73).png', '/tmp/Grapevine_Leaves_Image_Dataset/Dimnit/Dimnit (74).png', '/tmp/Grapevine_Leaves_Image_Dataset/Dimnit/Dimnit (75).png', '/tmp/Grapevine_Leaves_Image_Dataset/Dimnit/Dimnit (76).png', '/tmp/Grapevine_Leaves_Image_Dataset/Dimnit/Dimnit (77).png', '/tmp/Grapevine_Leaves_Image_Dataset/Dimnit/Dimnit (78).png', '/tmp/Grapevine_Leaves_Image_Dataset/Dimnit/Dimnit (79).png', '/tmp/Grapevine_Leaves_Image_Dataset/Dimnit/Dimnit (8).png', '/tmp/Grapevine_Leaves_Image_Dataset/Dimnit/Dimnit (80).png', '/tmp/Grapevine_Leaves_Image_Dataset/Dimnit/Dimnit (81).png', '/tmp/Grapevine_Leaves_Image_Dataset/Dimnit/Dimnit (82).png', '/tmp/Grapevine_Leaves_Image_Dataset/Dimnit/Dimnit (83).png', '/tmp/Grapevine_Leaves_Image_Dataset/Dimnit/Dimnit (84).png', '/tmp/Grapevine_Leaves_Image_Dataset/Dimnit/Dimnit (85).png', '/tmp/Grapevine_Leaves_Image_Dataset/Dimnit/Dimnit (86).png', '/tmp/Grapevine_Leaves_Image_Dataset/Dimnit/Dimnit (87).png', '/tmp/Grapevine_Leaves_Image_Dataset/Dimnit/Dimnit (88).png', '/tmp/Grapevine_Leaves_Image_Dataset/Dimnit/Dimnit (89).png', '/tmp/Grapevine_Leaves_Image_Dataset/Dimnit/Dimnit (9).png', '/tmp/Grapevine_Leaves_Image_Dataset/Dimnit/Dimnit (90).png', '/tmp/Grapevine_Leaves_Image_Dataset/Dimnit/Dimnit (91).png', '/tmp/Grapevine_Leaves_Image_Dataset/Dimnit/Dimnit (92).png', '/tmp/Grapevine_Leaves_Image_Dataset/Dimnit/Dimnit (93).png', '/tmp/Grapevine_Leaves_Image_Dataset/Dimnit/Dimnit (94).png', '/tmp/Grapevine_Leaves_Image_Dataset/Dimnit/Dimnit (95).png', '/tmp/Grapevine_Leaves_Image_Dataset/Dimnit/Dimnit (96).png', '/tmp/Grapevine_Leaves_Image_Dataset/Dimnit/Dimnit (97).png', '/tmp/Grapevine_Leaves_Image_Dataset/Dimnit/Dimnit (98).png', '/tmp/Grapevine_Leaves_Image_Dataset/Dimnit/Dimnit (99).png', '/tmp/Grapevine_Leaves_Image_Dataset/Nazli/Nazli (1).png', '/tmp/Grapevine_Leaves_Image_Dataset/Nazli/Nazli (10).png', '/tmp/Grapevine_Leaves_Image_Dataset/Nazli/Nazli (100).png', '/tmp/Grapevine_Leaves_Image_Dataset/Nazli/Nazli (11).png', '/tmp/Grapevine_Leaves_Image_Dataset/Nazli/Nazli (12).png', '/tmp/Grapevine_Leaves_Image_Dataset/Nazli/Nazli (13).png', '/tmp/Grapevine_Leaves_Image_Dataset/Nazli/Nazli (14).png', '/tmp/Grapevine_Leaves_Image_Dataset/Nazli/Nazli (15).png', '/tmp/Grapevine_Leaves_Image_Dataset/Nazli/Nazli (16).png', '/tmp/Grapevine_Leaves_Image_Dataset/Nazli/Nazli (17).png', '/tmp/Grapevine_Leaves_Image_Dataset/Nazli/Nazli (18).png', '/tmp/Grapevine_Leaves_Image_Dataset/Nazli/Nazli (19).png', '/tmp/Grapevine_Leaves_Image_Dataset/Nazli/Nazli (2).png', '/tmp/Grapevine_Leaves_Image_Dataset/Nazli/Nazli (20).png', '/tmp/Grapevine_Leaves_Image_Dataset/Nazli/Nazli (21).png', '/tmp/Grapevine_Leaves_Image_Dataset/Nazli/Nazli (22).png', '/tmp/Grapevine_Leaves_Image_Dataset/Nazli/Nazli (23).png', '/tmp/Grapevine_Leaves_Image_Dataset/Nazli/Nazli (24).png', '/tmp/Grapevine_Leaves_Image_Dataset/Nazli/Nazli (25).png', '/tmp/Grapevine_Leaves_Image_Dataset/Nazli/Nazli (26).png', '/tmp/Grapevine_Leaves_Image_Dataset/Nazli/Nazli (27).png', '/tmp/Grapevine_Leaves_Image_Dataset/Nazli/Nazli (28).png', '/tmp/Grapevine_Leaves_Image_Dataset/Nazli/Nazli (29).png', '/tmp/Grapevine_Leaves_Image_Dataset/Nazli/Nazli (3).png', '/tmp/Grapevine_Leaves_Image_Dataset/Nazli/Nazli (30).png', '/tmp/Grapevine_Leaves_Image_Dataset/Nazli/Nazli (31).png', '/tmp/Grapevine_Leaves_Image_Dataset/Nazli/Nazli (32).png', '/tmp/Grapevine_Leaves_Image_Dataset/Nazli/Nazli (33).png', '/tmp/Grapevine_Leaves_Image_Dataset/Nazli/Nazli (34).png', '/tmp/Grapevine_Leaves_Image_Dataset/Nazli/Nazli (35).png', '/tmp/Grapevine_Leaves_Image_Dataset/Nazli/Nazli (36).png', '/tmp/Grapevine_Leaves_Image_Dataset/Nazli/Nazli (37).png', '/tmp/Grapevine_Leaves_Image_Dataset/Nazli/Nazli (38).png', '/tmp/Grapevine_Leaves_Image_Dataset/Nazli/Nazli (39).png', '/tmp/Grapevine_Leaves_Image_Dataset/Nazli/Nazli (4).png', '/tmp/Grapevine_Leaves_Image_Dataset/Nazli/Nazli (40).png', '/tmp/Grapevine_Leaves_Image_Dataset/Nazli/Nazli (41).png', '/tmp/Grapevine_Leaves_Image_Dataset/Nazli/Nazli (42).png', '/tmp/Grapevine_Leaves_Image_Dataset/Nazli/Nazli (43).png', '/tmp/Grapevine_Leaves_Image_Dataset/Nazli/Nazli (44).png', '/tmp/Grapevine_Leaves_Image_Dataset/Nazli/Nazli (45).png', '/tmp/Grapevine_Leaves_Image_Dataset/Nazli/Nazli (46).png', '/tmp/Grapevine_Leaves_Image_Dataset/Nazli/Nazli (47).png', '/tmp/Grapevine_Leaves_Image_Dataset/Nazli/Nazli (48).png', '/tmp/Grapevine_Leaves_Image_Dataset/Nazli/Nazli (49).png', '/tmp/Grapevine_Leaves_Image_Dataset/Nazli/Nazli (5).png', '/tmp/Grapevine_Leaves_Image_Dataset/Nazli/Nazli (50).png', '/tmp/Grapevine_Leaves_Image_Dataset/Nazli/Nazli (51).png', '/tmp/Grapevine_Leaves_Image_Dataset/Nazli/Nazli (52).png', '/tmp/Grapevine_Leaves_Image_Dataset/Nazli/Nazli (53).png', '/tmp/Grapevine_Leaves_Image_Dataset/Nazli/Nazli (54).png', '/tmp/Grapevine_Leaves_Image_Dataset/Nazli/Nazli (55).png', '/tmp/Grapevine_Leaves_Image_Dataset/Nazli/Nazli (56).png', '/tmp/Grapevine_Leaves_Image_Dataset/Nazli/Nazli (57).png', '/tmp/Grapevine_Leaves_Image_Dataset/Nazli/Nazli (58).png', '/tmp/Grapevine_Leaves_Image_Dataset/Nazli/Nazli (59).png', '/tmp/Grapevine_Leaves_Image_Dataset/Nazli/Nazli (6).png', '/tmp/Grapevine_Leaves_Image_Dataset/Nazli/Nazli (60).png', '/tmp/Grapevine_Leaves_Image_Dataset/Nazli/Nazli (61).png', '/tmp/Grapevine_Leaves_Image_Dataset/Nazli/Nazli (62).png', '/tmp/Grapevine_Leaves_Image_Dataset/Nazli/Nazli (63).png', '/tmp/Grapevine_Leaves_Image_Dataset/Nazli/Nazli (64).png', '/tmp/Grapevine_Leaves_Image_Dataset/Nazli/Nazli (65).png', '/tmp/Grapevine_Leaves_Image_Dataset/Nazli/Nazli (66).png', '/tmp/Grapevine_Leaves_Image_Dataset/Nazli/Nazli (67).png', '/tmp/Grapevine_Leaves_Image_Dataset/Nazli/Nazli (68).png', '/tmp/Grapevine_Leaves_Image_Dataset/Nazli/Nazli (69).png', '/tmp/Grapevine_Leaves_Image_Dataset/Nazli/Nazli (7).png', '/tmp/Grapevine_Leaves_Image_Dataset/Nazli/Nazli (70).png', '/tmp/Grapevine_Leaves_Image_Dataset/Nazli/Nazli (71).png', '/tmp/Grapevine_Leaves_Image_Dataset/Nazli/Nazli (72).png', '/tmp/Grapevine_Leaves_Image_Dataset/Nazli/Nazli (73).png', '/tmp/Grapevine_Leaves_Image_Dataset/Nazli/Nazli (74).png', '/tmp/Grapevine_Leaves_Image_Dataset/Nazli/Nazli (75).png', '/tmp/Grapevine_Leaves_Image_Dataset/Nazli/Nazli (76).png', '/tmp/Grapevine_Leaves_Image_Dataset/Nazli/Nazli (77).png', '/tmp/Grapevine_Leaves_Image_Dataset/Nazli/Nazli (78).png', '/tmp/Grapevine_Leaves_Image_Dataset/Nazli/Nazli (79).png', '/tmp/Grapevine_Leaves_Image_Dataset/Nazli/Nazli (8).png', '/tmp/Grapevine_Leaves_Image_Dataset/Nazli/Nazli (80).png', '/tmp/Grapevine_Leaves_Image_Dataset/Nazli/Nazli (81).png', '/tmp/Grapevine_Leaves_Image_Dataset/Nazli/Nazli (82).png', '/tmp/Grapevine_Leaves_Image_Dataset/Nazli/Nazli (83).png', '/tmp/Grapevine_Leaves_Image_Dataset/Nazli/Nazli (84).png', '/tmp/Grapevine_Leaves_Image_Dataset/Nazli/Nazli (85).png', '/tmp/Grapevine_Leaves_Image_Dataset/Nazli/Nazli (86).png', '/tmp/Grapevine_Leaves_Image_Dataset/Nazli/Nazli (87).png', '/tmp/Grapevine_Leaves_Image_Dataset/Nazli/Nazli (88).png', '/tmp/Grapevine_Leaves_Image_Dataset/Nazli/Nazli (89).png', '/tmp/Grapevine_Leaves_Image_Dataset/Nazli/Nazli (9).png', '/tmp/Grapevine_Leaves_Image_Dataset/Nazli/Nazli (90).png', '/tmp/Grapevine_Leaves_Image_Dataset/Nazli/Nazli (91).png', '/tmp/Grapevine_Leaves_Image_Dataset/Nazli/Nazli (92).png', '/tmp/Grapevine_Leaves_Image_Dataset/Nazli/Nazli (93).png', '/tmp/Grapevine_Leaves_Image_Dataset/Nazli/Nazli (94).png', '/tmp/Grapevine_Leaves_Image_Dataset/Nazli/Nazli (95).png', '/tmp/Grapevine_Leaves_Image_Dataset/Nazli/Nazli (96).png', '/tmp/Grapevine_Leaves_Image_Dataset/Nazli/Nazli (97).png', '/tmp/Grapevine_Leaves_Image_Dataset/Nazli/Nazli (98).png', '/tmp/Grapevine_Leaves_Image_Dataset/Nazli/Nazli (99).png']\n"
          ]
        }
      ]
    },
    {
      "cell_type": "code",
      "source": [
        "label_map = {'Ak':0,\n",
        "             'Ala_Idris':1,\n",
        "             'Buzgulu':2,\n",
        "             'Dimnit':3,\n",
        "             'Nazli':4,}\n",
        "label = [label_map[os.path.basename(file).split(' ')[0]] for file in files]\n",
        "print(label)"
      ],
      "metadata": {
        "colab": {
          "base_uri": "https://localhost:8080/"
        },
        "id": "sf6Ib8tN_9PN",
        "outputId": "55c003f0-72e6-4594-a256-595b1d06ebd8"
      },
      "execution_count": 24,
      "outputs": [
        {
          "output_type": "stream",
          "name": "stdout",
          "text": [
            "[0, 0, 0, 0, 0, 0, 0, 0, 0, 0, 0, 0, 0, 0, 0, 0, 0, 0, 0, 0, 0, 0, 0, 0, 0, 0, 0, 0, 0, 0, 0, 0, 0, 0, 0, 0, 0, 0, 0, 0, 0, 0, 0, 0, 0, 0, 0, 0, 0, 0, 0, 0, 0, 0, 0, 0, 0, 0, 0, 0, 0, 0, 0, 0, 0, 0, 0, 0, 0, 0, 0, 0, 0, 0, 0, 0, 0, 0, 0, 0, 0, 0, 0, 0, 0, 0, 0, 0, 0, 0, 0, 0, 0, 0, 0, 0, 0, 0, 0, 0, 1, 1, 1, 1, 1, 1, 1, 1, 1, 1, 1, 1, 1, 1, 1, 1, 1, 1, 1, 1, 1, 1, 1, 1, 1, 1, 1, 1, 1, 1, 1, 1, 1, 1, 1, 1, 1, 1, 1, 1, 1, 1, 1, 1, 1, 1, 1, 1, 1, 1, 1, 1, 1, 1, 1, 1, 1, 1, 1, 1, 1, 1, 1, 1, 1, 1, 1, 1, 1, 1, 1, 1, 1, 1, 1, 1, 1, 1, 1, 1, 1, 1, 1, 1, 1, 1, 1, 1, 1, 1, 1, 1, 1, 1, 1, 1, 1, 1, 1, 1, 2, 2, 2, 2, 2, 2, 2, 2, 2, 2, 2, 2, 2, 2, 2, 2, 2, 2, 2, 2, 2, 2, 2, 2, 2, 2, 2, 2, 2, 2, 2, 2, 2, 2, 2, 2, 2, 2, 2, 2, 2, 2, 2, 2, 2, 2, 2, 2, 2, 2, 2, 2, 2, 2, 2, 2, 2, 2, 2, 2, 2, 2, 2, 2, 2, 2, 2, 2, 2, 2, 2, 2, 2, 2, 2, 2, 2, 2, 2, 2, 2, 2, 2, 2, 2, 2, 2, 2, 2, 2, 2, 2, 2, 2, 2, 2, 2, 2, 2, 2, 3, 3, 3, 3, 3, 3, 3, 3, 3, 3, 3, 3, 3, 3, 3, 3, 3, 3, 3, 3, 3, 3, 3, 3, 3, 3, 3, 3, 3, 3, 3, 3, 3, 3, 3, 3, 3, 3, 3, 3, 3, 3, 3, 3, 3, 3, 3, 3, 3, 3, 3, 3, 3, 3, 3, 3, 3, 3, 3, 3, 3, 3, 3, 3, 3, 3, 3, 3, 3, 3, 3, 3, 3, 3, 3, 3, 3, 3, 3, 3, 3, 3, 3, 3, 3, 3, 3, 3, 3, 3, 3, 3, 3, 3, 3, 3, 3, 3, 3, 3, 4, 4, 4, 4, 4, 4, 4, 4, 4, 4, 4, 4, 4, 4, 4, 4, 4, 4, 4, 4, 4, 4, 4, 4, 4, 4, 4, 4, 4, 4, 4, 4, 4, 4, 4, 4, 4, 4, 4, 4, 4, 4, 4, 4, 4, 4, 4, 4, 4, 4, 4, 4, 4, 4, 4, 4, 4, 4, 4, 4, 4, 4, 4, 4, 4, 4, 4, 4, 4, 4, 4, 4, 4, 4, 4, 4, 4, 4, 4, 4, 4, 4, 4, 4, 4, 4, 4, 4, 4, 4, 4, 4, 4, 4, 4, 4, 4, 4, 4, 4]\n"
          ]
        }
      ]
    },
    {
      "cell_type": "code",
      "source": [
        "\n",
        "base_dir = path # => '/tmp/Grapevine_Leaves_Image_Dataset/'\n",
        "train_dir = os.path.join(base_dir, 'train')\n",
        "validation_dir = os.path.join(base_dir, 'validation')\n",
        "\n",
        "# Directory with our training Ak pictures\n",
        "train_Ak_dir = os.path.join(train_dir, 'Ak')\n",
        "# Directory with our training Ala_Idris pictures and go on\n",
        "train_Ala_Idris_dir = os.path.join(train_dir, 'Ala_Idris')\n",
        "train_Buzgulu_dir = os.path.join(train_dir, 'Buzgulu')\n",
        "train_Dimnit_dir = os.path.join(train_dir, 'Dimnit')\n",
        "train_Nazli_dir = os.path.join(train_dir, 'Nazli')\n",
        "\n",
        "# Directory with our validation Ak pictures\n",
        "train_Ak_dir = os.path.join(validation_dir, 'Ak')\n",
        "# Directory with our validation Ala_Idris pictures and go on\n",
        "train_Ala_Idris_dir = os.path.join(validation_dir, 'Ala_Idris')\n",
        "train_Buzgulu_dir = os.path.join(validation_dir, 'Buzgulu')\n",
        "train_Dimnit_dir = os.path.join(validation_dir, 'Dimnit')\n",
        "train_Nazli_dir = os.path.join(validation_dir, 'Nazli')\n"
      ],
      "metadata": {
        "id": "TF0dkVUURQe_"
      },
      "execution_count": 25,
      "outputs": []
    },
    {
      "cell_type": "code",
      "source": [
        "print(type(train_dir))"
      ],
      "metadata": {
        "colab": {
          "base_uri": "https://localhost:8080/"
        },
        "id": "USSFhRbJTdL2",
        "outputId": "3e1a4ec2-6134-4db2-9eb1-3653d6b63a7b"
      },
      "execution_count": 26,
      "outputs": [
        {
          "output_type": "stream",
          "name": "stdout",
          "text": [
            "<class 'str'>\n"
          ]
        }
      ]
    },
    {
      "cell_type": "markdown",
      "source": [
        "Now using a loop on classes, we shuffle each dataset of classes and then split it with ratio 0.2; storing train and test."
      ],
      "metadata": {
        "id": "eiBM8ply_1-W"
      }
    },
    {
      "cell_type": "code",
      "source": [
        "import numpy as np\n",
        "import shutil\n",
        "rootdir = '/tmp/Grapevine_Leaves_Image_Dataset'\n",
        "classes = ['Ak', 'Ala_Idris','Buzgulu','Dimnit','Nazli']\n",
        "\n",
        "test_ratio = 0.20\n",
        "for i in classes:\n",
        "  os.makedirs(rootdir +'/train/' + i)\n",
        "  os.makedirs(rootdir +'/test/' + i)\n",
        "\n",
        "  source = rootdir + '/' + i\n",
        "\n",
        "  allFileNames = os.listdir(source)\n",
        "  np.random.shuffle(allFileNames)\n",
        "\n",
        "  test_ratio = 0.2\n",
        "\n",
        "  train_FileNames, test_FileNames = np.split(np.array(allFileNames),\n",
        "                                                        [int(len(allFileNames)* (1 - test_ratio))])\n",
        "\n",
        "  train_FileNames = [source+'/'+ name for name in train_FileNames.tolist()]\n",
        "  test_FileNames = [source+'/' + name for name in test_FileNames.tolist()]\n",
        "\n",
        "  for name in train_FileNames:\n",
        "    shutil.copy(name, rootdir +'/train/' + i)\n",
        "\n",
        "  for name in test_FileNames:\n",
        "    shutil.copy(name, rootdir +'/test/' + i)\n"
      ],
      "metadata": {
        "id": "ZUFuBaTEU4rh"
      },
      "execution_count": 27,
      "outputs": []
    },
    {
      "cell_type": "code",
      "source": [
        "#!rm -rf /tmp/Grapevine_Leaves_Image_Dataset/train"
      ],
      "metadata": {
        "id": "3Qt5Y66cbVan"
      },
      "execution_count": 28,
      "outputs": []
    },
    {
      "cell_type": "code",
      "source": [
        "\n",
        "\"\"\"\n",
        "!pip install Augmentor\n",
        "import Augmentor\n",
        "p = Augmentor.Pipeline(\"/tmp/Grapevine_Leaves_Image_Dataset/train/Ak\",output_directory=\"\")\n",
        "# Point to a directory containing ground truth data.\n",
        "# Images with the same file names will be added as ground truth data\n",
        "# and augmented in parallel to the original data.\n",
        "p.ground_truth(\"/tmp/Grapevine_Leaves_Image_Dataset/train/Ak\")\n",
        "# Add operations to the pipeline as normal:\n",
        "p.rotate(probability=1, max_left_rotation=25, max_right_rotation=25)\n",
        "p.flip_left_right(probability=1)\n",
        "p.zoom_random(probability=1, percentage_area=0.8)\n",
        "p.flip_top_bottom(probability=1)\n",
        "p.sample(80)\n",
        "\"\"\""
      ],
      "metadata": {
        "id": "ITxTGSAHcsAD",
        "colab": {
          "base_uri": "https://localhost:8080/",
          "height": 87
        },
        "outputId": "94747582-2774-4653-d5b8-e931fad17e8a"
      },
      "execution_count": 29,
      "outputs": [
        {
          "output_type": "execute_result",
          "data": {
            "text/plain": [
              "'\\n!pip install Augmentor\\nimport Augmentor\\np = Augmentor.Pipeline(\"/tmp/Grapevine_Leaves_Image_Dataset/train/Ak\",output_directory=\"\")\\n# Point to a directory containing ground truth data.\\n# Images with the same file names will be added as ground truth data\\n# and augmented in parallel to the original data.\\np.ground_truth(\"/tmp/Grapevine_Leaves_Image_Dataset/train/Ak\")\\n# Add operations to the pipeline as normal:\\np.rotate(probability=1, max_left_rotation=25, max_right_rotation=25)\\np.flip_left_right(probability=1)\\np.zoom_random(probability=1, percentage_area=0.8)\\np.flip_top_bottom(probability=1)\\np.sample(80)\\n'"
            ],
            "application/vnd.google.colaboratory.intrinsic+json": {
              "type": "string"
            }
          },
          "metadata": {},
          "execution_count": 29
        }
      ]
    },
    {
      "cell_type": "code",
      "source": [
        "from keras.preprocessing.image import ImageDataGenerator, array_to_img, img_to_array, load_img\n",
        "   \n",
        "# Initialising the ImageDataGenerator class.\n",
        "# We will pass in the augmentation parameters in the constructor.\n",
        "datagen = ImageDataGenerator(\n",
        "        rotation_range = 359,\n",
        "        shear_range = 0.2,\n",
        "        zoom_range = 0.2,\n",
        "        horizontal_flip = True)\n",
        "    \n",
        "# Loading a sample image\n",
        "for i in classes:\n",
        "  source = rootdir + '/train/' + i\n",
        "  allFileNames = os.listdir(source)\n",
        "  train_sample = [source+'/'+ name for name in allFileNames]\n",
        "  print(train_sample)\n",
        "  for file in range(len(train_sample)):\n",
        "    img=load_img(train_sample[file])\n",
        "    x = img_to_array(img)\n",
        "    \n",
        "    x = x.reshape((1, ) + x.shape)\n",
        "    j = 0\n",
        "    for batch in datagen.flow(x, batch_size = 1,\n",
        "                              save_to_dir =source, \n",
        "                              save_prefix =i+' '+'('+str(file+100)+')', save_format ='png'):\n",
        "        j += 1\n",
        "        if j > 5:\n",
        "            break"
      ],
      "metadata": {
        "colab": {
          "base_uri": "https://localhost:8080/"
        },
        "id": "mq0veA2uD9BI",
        "outputId": "5b10eb57-4a1f-4d21-dddf-86ba3f090867"
      },
      "execution_count": 31,
      "outputs": [
        {
          "output_type": "stream",
          "name": "stdout",
          "text": [
            "['/tmp/Grapevine_Leaves_Image_Dataset/train/Ak/Ak (62).png', '/tmp/Grapevine_Leaves_Image_Dataset/train/Ak/Ak (99).png', '/tmp/Grapevine_Leaves_Image_Dataset/train/Ak/Ak (41).png', '/tmp/Grapevine_Leaves_Image_Dataset/train/Ak/Ak (29).png', '/tmp/Grapevine_Leaves_Image_Dataset/train/Ak/Ak (72).png', '/tmp/Grapevine_Leaves_Image_Dataset/train/Ak/Ak (14).png', '/tmp/Grapevine_Leaves_Image_Dataset/train/Ak/Ak (84).png', '/tmp/Grapevine_Leaves_Image_Dataset/train/Ak/Ak (53).png', '/tmp/Grapevine_Leaves_Image_Dataset/train/Ak/Ak (95).png', '/tmp/Grapevine_Leaves_Image_Dataset/train/Ak/Ak (31).png', '/tmp/Grapevine_Leaves_Image_Dataset/train/Ak/Ak (23).png', '/tmp/Grapevine_Leaves_Image_Dataset/train/Ak/Ak (20).png', '/tmp/Grapevine_Leaves_Image_Dataset/train/Ak/Ak (2).png', '/tmp/Grapevine_Leaves_Image_Dataset/train/Ak/Ak (43).png', '/tmp/Grapevine_Leaves_Image_Dataset/train/Ak/Ak (86).png', '/tmp/Grapevine_Leaves_Image_Dataset/train/Ak/Ak (91).png', '/tmp/Grapevine_Leaves_Image_Dataset/train/Ak/Ak (44).png', '/tmp/Grapevine_Leaves_Image_Dataset/train/Ak/Ak (54).png', '/tmp/Grapevine_Leaves_Image_Dataset/train/Ak/Ak (19).png', '/tmp/Grapevine_Leaves_Image_Dataset/train/Ak/Ak (45).png', '/tmp/Grapevine_Leaves_Image_Dataset/train/Ak/Ak (25).png', '/tmp/Grapevine_Leaves_Image_Dataset/train/Ak/Ak (79).png', '/tmp/Grapevine_Leaves_Image_Dataset/train/Ak/Ak (81).png', '/tmp/Grapevine_Leaves_Image_Dataset/train/Ak/Ak (4).png', '/tmp/Grapevine_Leaves_Image_Dataset/train/Ak/Ak (77).png', '/tmp/Grapevine_Leaves_Image_Dataset/train/Ak/Ak (93).png', '/tmp/Grapevine_Leaves_Image_Dataset/train/Ak/Ak (55).png', '/tmp/Grapevine_Leaves_Image_Dataset/train/Ak/Ak (8).png', '/tmp/Grapevine_Leaves_Image_Dataset/train/Ak/Ak (37).png', '/tmp/Grapevine_Leaves_Image_Dataset/train/Ak/Ak (75).png', '/tmp/Grapevine_Leaves_Image_Dataset/train/Ak/Ak (85).png', '/tmp/Grapevine_Leaves_Image_Dataset/train/Ak/Ak (98).png', '/tmp/Grapevine_Leaves_Image_Dataset/train/Ak/Ak (100).png', '/tmp/Grapevine_Leaves_Image_Dataset/train/Ak/Ak (12).png', '/tmp/Grapevine_Leaves_Image_Dataset/train/Ak/Ak (63).png', '/tmp/Grapevine_Leaves_Image_Dataset/train/Ak/Ak (26).png', '/tmp/Grapevine_Leaves_Image_Dataset/train/Ak/Ak (27).png', '/tmp/Grapevine_Leaves_Image_Dataset/train/Ak/Ak (94).png', '/tmp/Grapevine_Leaves_Image_Dataset/train/Ak/Ak (73).png', '/tmp/Grapevine_Leaves_Image_Dataset/train/Ak/Ak (96).png', '/tmp/Grapevine_Leaves_Image_Dataset/train/Ak/Ak (87).png', '/tmp/Grapevine_Leaves_Image_Dataset/train/Ak/Ak (88).png', '/tmp/Grapevine_Leaves_Image_Dataset/train/Ak/Ak (48).png', '/tmp/Grapevine_Leaves_Image_Dataset/train/Ak/Ak (82).png', '/tmp/Grapevine_Leaves_Image_Dataset/train/Ak/Ak (34).png', '/tmp/Grapevine_Leaves_Image_Dataset/train/Ak/Ak (15).png', '/tmp/Grapevine_Leaves_Image_Dataset/train/Ak/Ak (36).png', '/tmp/Grapevine_Leaves_Image_Dataset/train/Ak/Ak (83).png', '/tmp/Grapevine_Leaves_Image_Dataset/train/Ak/Ak (67).png', '/tmp/Grapevine_Leaves_Image_Dataset/train/Ak/Ak (66).png', '/tmp/Grapevine_Leaves_Image_Dataset/train/Ak/Ak (70).png', '/tmp/Grapevine_Leaves_Image_Dataset/train/Ak/Ak (11).png', '/tmp/Grapevine_Leaves_Image_Dataset/train/Ak/Ak (69).png', '/tmp/Grapevine_Leaves_Image_Dataset/train/Ak/Ak (80).png', '/tmp/Grapevine_Leaves_Image_Dataset/train/Ak/Ak (16).png', '/tmp/Grapevine_Leaves_Image_Dataset/train/Ak/Ak (57).png', '/tmp/Grapevine_Leaves_Image_Dataset/train/Ak/Ak (74).png', '/tmp/Grapevine_Leaves_Image_Dataset/train/Ak/Ak (10).png', '/tmp/Grapevine_Leaves_Image_Dataset/train/Ak/Ak (52).png', '/tmp/Grapevine_Leaves_Image_Dataset/train/Ak/Ak (39).png', '/tmp/Grapevine_Leaves_Image_Dataset/train/Ak/Ak (30).png', '/tmp/Grapevine_Leaves_Image_Dataset/train/Ak/Ak (65).png', '/tmp/Grapevine_Leaves_Image_Dataset/train/Ak/Ak (49).png', '/tmp/Grapevine_Leaves_Image_Dataset/train/Ak/Ak (5).png', '/tmp/Grapevine_Leaves_Image_Dataset/train/Ak/Ak (61).png', '/tmp/Grapevine_Leaves_Image_Dataset/train/Ak/Ak (71).png', '/tmp/Grapevine_Leaves_Image_Dataset/train/Ak/Ak (46).png', '/tmp/Grapevine_Leaves_Image_Dataset/train/Ak/Ak (50).png', '/tmp/Grapevine_Leaves_Image_Dataset/train/Ak/Ak (17).png', '/tmp/Grapevine_Leaves_Image_Dataset/train/Ak/Ak (22).png', '/tmp/Grapevine_Leaves_Image_Dataset/train/Ak/Ak (9).png', '/tmp/Grapevine_Leaves_Image_Dataset/train/Ak/Ak (1).png', '/tmp/Grapevine_Leaves_Image_Dataset/train/Ak/Ak (64).png', '/tmp/Grapevine_Leaves_Image_Dataset/train/Ak/Ak (7).png', '/tmp/Grapevine_Leaves_Image_Dataset/train/Ak/Ak (58).png', '/tmp/Grapevine_Leaves_Image_Dataset/train/Ak/Ak (68).png', '/tmp/Grapevine_Leaves_Image_Dataset/train/Ak/Ak (28).png', '/tmp/Grapevine_Leaves_Image_Dataset/train/Ak/Ak (97).png', '/tmp/Grapevine_Leaves_Image_Dataset/train/Ak/Ak (33).png', '/tmp/Grapevine_Leaves_Image_Dataset/train/Ak/Ak (24).png']\n",
            "['/tmp/Grapevine_Leaves_Image_Dataset/train/Ala_Idris/Ala_Idris (52).png', '/tmp/Grapevine_Leaves_Image_Dataset/train/Ala_Idris/Ala_Idris (12).png', '/tmp/Grapevine_Leaves_Image_Dataset/train/Ala_Idris/Ala_Idris (14).png', '/tmp/Grapevine_Leaves_Image_Dataset/train/Ala_Idris/Ala_Idris (87).png', '/tmp/Grapevine_Leaves_Image_Dataset/train/Ala_Idris/Ala_Idris (51).png', '/tmp/Grapevine_Leaves_Image_Dataset/train/Ala_Idris/Ala_Idris (65).png', '/tmp/Grapevine_Leaves_Image_Dataset/train/Ala_Idris/Ala_Idris (25).png', '/tmp/Grapevine_Leaves_Image_Dataset/train/Ala_Idris/Ala_Idris (72).png', '/tmp/Grapevine_Leaves_Image_Dataset/train/Ala_Idris/Ala_Idris (2).png', '/tmp/Grapevine_Leaves_Image_Dataset/train/Ala_Idris/Ala_Idris (22).png', '/tmp/Grapevine_Leaves_Image_Dataset/train/Ala_Idris/Ala_Idris (99).png', '/tmp/Grapevine_Leaves_Image_Dataset/train/Ala_Idris/Ala_Idris (53).png', '/tmp/Grapevine_Leaves_Image_Dataset/train/Ala_Idris/Ala_Idris (5).png', '/tmp/Grapevine_Leaves_Image_Dataset/train/Ala_Idris/Ala_Idris (74).png', '/tmp/Grapevine_Leaves_Image_Dataset/train/Ala_Idris/Ala_Idris (57).png', '/tmp/Grapevine_Leaves_Image_Dataset/train/Ala_Idris/Ala_Idris (77).png', '/tmp/Grapevine_Leaves_Image_Dataset/train/Ala_Idris/Ala_Idris (76).png', '/tmp/Grapevine_Leaves_Image_Dataset/train/Ala_Idris/Ala_Idris (40).png', '/tmp/Grapevine_Leaves_Image_Dataset/train/Ala_Idris/Ala_Idris (59).png', '/tmp/Grapevine_Leaves_Image_Dataset/train/Ala_Idris/Ala_Idris (36).png', '/tmp/Grapevine_Leaves_Image_Dataset/train/Ala_Idris/Ala_Idris (19).png', '/tmp/Grapevine_Leaves_Image_Dataset/train/Ala_Idris/Ala_Idris (39).png', '/tmp/Grapevine_Leaves_Image_Dataset/train/Ala_Idris/Ala_Idris (84).png', '/tmp/Grapevine_Leaves_Image_Dataset/train/Ala_Idris/Ala_Idris (100).png', '/tmp/Grapevine_Leaves_Image_Dataset/train/Ala_Idris/Ala_Idris (9).png', '/tmp/Grapevine_Leaves_Image_Dataset/train/Ala_Idris/Ala_Idris (96).png', '/tmp/Grapevine_Leaves_Image_Dataset/train/Ala_Idris/Ala_Idris (80).png', '/tmp/Grapevine_Leaves_Image_Dataset/train/Ala_Idris/Ala_Idris (89).png', '/tmp/Grapevine_Leaves_Image_Dataset/train/Ala_Idris/Ala_Idris (20).png', '/tmp/Grapevine_Leaves_Image_Dataset/train/Ala_Idris/Ala_Idris (68).png', '/tmp/Grapevine_Leaves_Image_Dataset/train/Ala_Idris/Ala_Idris (82).png', '/tmp/Grapevine_Leaves_Image_Dataset/train/Ala_Idris/Ala_Idris (33).png', '/tmp/Grapevine_Leaves_Image_Dataset/train/Ala_Idris/Ala_Idris (94).png', '/tmp/Grapevine_Leaves_Image_Dataset/train/Ala_Idris/Ala_Idris (24).png', '/tmp/Grapevine_Leaves_Image_Dataset/train/Ala_Idris/Ala_Idris (27).png', '/tmp/Grapevine_Leaves_Image_Dataset/train/Ala_Idris/Ala_Idris (47).png', '/tmp/Grapevine_Leaves_Image_Dataset/train/Ala_Idris/Ala_Idris (41).png', '/tmp/Grapevine_Leaves_Image_Dataset/train/Ala_Idris/Ala_Idris (56).png', '/tmp/Grapevine_Leaves_Image_Dataset/train/Ala_Idris/Ala_Idris (23).png', '/tmp/Grapevine_Leaves_Image_Dataset/train/Ala_Idris/Ala_Idris (43).png', '/tmp/Grapevine_Leaves_Image_Dataset/train/Ala_Idris/Ala_Idris (29).png', '/tmp/Grapevine_Leaves_Image_Dataset/train/Ala_Idris/Ala_Idris (61).png', '/tmp/Grapevine_Leaves_Image_Dataset/train/Ala_Idris/Ala_Idris (31).png', '/tmp/Grapevine_Leaves_Image_Dataset/train/Ala_Idris/Ala_Idris (44).png', '/tmp/Grapevine_Leaves_Image_Dataset/train/Ala_Idris/Ala_Idris (71).png', '/tmp/Grapevine_Leaves_Image_Dataset/train/Ala_Idris/Ala_Idris (46).png', '/tmp/Grapevine_Leaves_Image_Dataset/train/Ala_Idris/Ala_Idris (8).png', '/tmp/Grapevine_Leaves_Image_Dataset/train/Ala_Idris/Ala_Idris (48).png', '/tmp/Grapevine_Leaves_Image_Dataset/train/Ala_Idris/Ala_Idris (60).png', '/tmp/Grapevine_Leaves_Image_Dataset/train/Ala_Idris/Ala_Idris (86).png', '/tmp/Grapevine_Leaves_Image_Dataset/train/Ala_Idris/Ala_Idris (81).png', '/tmp/Grapevine_Leaves_Image_Dataset/train/Ala_Idris/Ala_Idris (73).png', '/tmp/Grapevine_Leaves_Image_Dataset/train/Ala_Idris/Ala_Idris (66).png', '/tmp/Grapevine_Leaves_Image_Dataset/train/Ala_Idris/Ala_Idris (28).png', '/tmp/Grapevine_Leaves_Image_Dataset/train/Ala_Idris/Ala_Idris (62).png', '/tmp/Grapevine_Leaves_Image_Dataset/train/Ala_Idris/Ala_Idris (95).png', '/tmp/Grapevine_Leaves_Image_Dataset/train/Ala_Idris/Ala_Idris (69).png', '/tmp/Grapevine_Leaves_Image_Dataset/train/Ala_Idris/Ala_Idris (45).png', '/tmp/Grapevine_Leaves_Image_Dataset/train/Ala_Idris/Ala_Idris (58).png', '/tmp/Grapevine_Leaves_Image_Dataset/train/Ala_Idris/Ala_Idris (98).png', '/tmp/Grapevine_Leaves_Image_Dataset/train/Ala_Idris/Ala_Idris (75).png', '/tmp/Grapevine_Leaves_Image_Dataset/train/Ala_Idris/Ala_Idris (91).png', '/tmp/Grapevine_Leaves_Image_Dataset/train/Ala_Idris/Ala_Idris (55).png', '/tmp/Grapevine_Leaves_Image_Dataset/train/Ala_Idris/Ala_Idris (79).png', '/tmp/Grapevine_Leaves_Image_Dataset/train/Ala_Idris/Ala_Idris (70).png', '/tmp/Grapevine_Leaves_Image_Dataset/train/Ala_Idris/Ala_Idris (64).png', '/tmp/Grapevine_Leaves_Image_Dataset/train/Ala_Idris/Ala_Idris (88).png', '/tmp/Grapevine_Leaves_Image_Dataset/train/Ala_Idris/Ala_Idris (21).png', '/tmp/Grapevine_Leaves_Image_Dataset/train/Ala_Idris/Ala_Idris (90).png', '/tmp/Grapevine_Leaves_Image_Dataset/train/Ala_Idris/Ala_Idris (37).png', '/tmp/Grapevine_Leaves_Image_Dataset/train/Ala_Idris/Ala_Idris (11).png', '/tmp/Grapevine_Leaves_Image_Dataset/train/Ala_Idris/Ala_Idris (85).png', '/tmp/Grapevine_Leaves_Image_Dataset/train/Ala_Idris/Ala_Idris (1).png', '/tmp/Grapevine_Leaves_Image_Dataset/train/Ala_Idris/Ala_Idris (92).png', '/tmp/Grapevine_Leaves_Image_Dataset/train/Ala_Idris/Ala_Idris (4).png', '/tmp/Grapevine_Leaves_Image_Dataset/train/Ala_Idris/Ala_Idris (13).png', '/tmp/Grapevine_Leaves_Image_Dataset/train/Ala_Idris/Ala_Idris (32).png', '/tmp/Grapevine_Leaves_Image_Dataset/train/Ala_Idris/Ala_Idris (50).png', '/tmp/Grapevine_Leaves_Image_Dataset/train/Ala_Idris/Ala_Idris (16).png', '/tmp/Grapevine_Leaves_Image_Dataset/train/Ala_Idris/Ala_Idris (3).png']\n",
            "['/tmp/Grapevine_Leaves_Image_Dataset/train/Buzgulu/Buzgulu (67).png', '/tmp/Grapevine_Leaves_Image_Dataset/train/Buzgulu/Buzgulu (59).png', '/tmp/Grapevine_Leaves_Image_Dataset/train/Buzgulu/Buzgulu (27).png', '/tmp/Grapevine_Leaves_Image_Dataset/train/Buzgulu/Buzgulu (79).png', '/tmp/Grapevine_Leaves_Image_Dataset/train/Buzgulu/Buzgulu (100).png', '/tmp/Grapevine_Leaves_Image_Dataset/train/Buzgulu/Buzgulu (78).png', '/tmp/Grapevine_Leaves_Image_Dataset/train/Buzgulu/Buzgulu (35).png', '/tmp/Grapevine_Leaves_Image_Dataset/train/Buzgulu/Buzgulu (29).png', '/tmp/Grapevine_Leaves_Image_Dataset/train/Buzgulu/Buzgulu (33).png', '/tmp/Grapevine_Leaves_Image_Dataset/train/Buzgulu/Buzgulu (24).png', '/tmp/Grapevine_Leaves_Image_Dataset/train/Buzgulu/Buzgulu (57).png', '/tmp/Grapevine_Leaves_Image_Dataset/train/Buzgulu/Buzgulu (83).png', '/tmp/Grapevine_Leaves_Image_Dataset/train/Buzgulu/Buzgulu (14).png', '/tmp/Grapevine_Leaves_Image_Dataset/train/Buzgulu/Buzgulu (52).png', '/tmp/Grapevine_Leaves_Image_Dataset/train/Buzgulu/Buzgulu (53).png', '/tmp/Grapevine_Leaves_Image_Dataset/train/Buzgulu/Buzgulu (90).png', '/tmp/Grapevine_Leaves_Image_Dataset/train/Buzgulu/Buzgulu (6).png', '/tmp/Grapevine_Leaves_Image_Dataset/train/Buzgulu/Buzgulu (54).png', '/tmp/Grapevine_Leaves_Image_Dataset/train/Buzgulu/Buzgulu (3).png', '/tmp/Grapevine_Leaves_Image_Dataset/train/Buzgulu/Buzgulu (66).png', '/tmp/Grapevine_Leaves_Image_Dataset/train/Buzgulu/Buzgulu (20).png', '/tmp/Grapevine_Leaves_Image_Dataset/train/Buzgulu/Buzgulu (92).png', '/tmp/Grapevine_Leaves_Image_Dataset/train/Buzgulu/Buzgulu (9).png', '/tmp/Grapevine_Leaves_Image_Dataset/train/Buzgulu/Buzgulu (21).png', '/tmp/Grapevine_Leaves_Image_Dataset/train/Buzgulu/Buzgulu (47).png', '/tmp/Grapevine_Leaves_Image_Dataset/train/Buzgulu/Buzgulu (71).png', '/tmp/Grapevine_Leaves_Image_Dataset/train/Buzgulu/Buzgulu (1).png', '/tmp/Grapevine_Leaves_Image_Dataset/train/Buzgulu/Buzgulu (36).png', '/tmp/Grapevine_Leaves_Image_Dataset/train/Buzgulu/Buzgulu (81).png', '/tmp/Grapevine_Leaves_Image_Dataset/train/Buzgulu/Buzgulu (19).png', '/tmp/Grapevine_Leaves_Image_Dataset/train/Buzgulu/Buzgulu (55).png', '/tmp/Grapevine_Leaves_Image_Dataset/train/Buzgulu/Buzgulu (26).png', '/tmp/Grapevine_Leaves_Image_Dataset/train/Buzgulu/Buzgulu (64).png', '/tmp/Grapevine_Leaves_Image_Dataset/train/Buzgulu/Buzgulu (56).png', '/tmp/Grapevine_Leaves_Image_Dataset/train/Buzgulu/Buzgulu (23).png', '/tmp/Grapevine_Leaves_Image_Dataset/train/Buzgulu/Buzgulu (44).png', '/tmp/Grapevine_Leaves_Image_Dataset/train/Buzgulu/Buzgulu (74).png', '/tmp/Grapevine_Leaves_Image_Dataset/train/Buzgulu/Buzgulu (82).png', '/tmp/Grapevine_Leaves_Image_Dataset/train/Buzgulu/Buzgulu (61).png', '/tmp/Grapevine_Leaves_Image_Dataset/train/Buzgulu/Buzgulu (58).png', '/tmp/Grapevine_Leaves_Image_Dataset/train/Buzgulu/Buzgulu (50).png', '/tmp/Grapevine_Leaves_Image_Dataset/train/Buzgulu/Buzgulu (17).png', '/tmp/Grapevine_Leaves_Image_Dataset/train/Buzgulu/Buzgulu (72).png', '/tmp/Grapevine_Leaves_Image_Dataset/train/Buzgulu/Buzgulu (5).png', '/tmp/Grapevine_Leaves_Image_Dataset/train/Buzgulu/Buzgulu (65).png', '/tmp/Grapevine_Leaves_Image_Dataset/train/Buzgulu/Buzgulu (12).png', '/tmp/Grapevine_Leaves_Image_Dataset/train/Buzgulu/Buzgulu (10).png', '/tmp/Grapevine_Leaves_Image_Dataset/train/Buzgulu/Buzgulu (39).png', '/tmp/Grapevine_Leaves_Image_Dataset/train/Buzgulu/Buzgulu (51).png', '/tmp/Grapevine_Leaves_Image_Dataset/train/Buzgulu/Buzgulu (70).png', '/tmp/Grapevine_Leaves_Image_Dataset/train/Buzgulu/Buzgulu (25).png', '/tmp/Grapevine_Leaves_Image_Dataset/train/Buzgulu/Buzgulu (43).png', '/tmp/Grapevine_Leaves_Image_Dataset/train/Buzgulu/Buzgulu (62).png', '/tmp/Grapevine_Leaves_Image_Dataset/train/Buzgulu/Buzgulu (68).png', '/tmp/Grapevine_Leaves_Image_Dataset/train/Buzgulu/Buzgulu (34).png', '/tmp/Grapevine_Leaves_Image_Dataset/train/Buzgulu/Buzgulu (4).png', '/tmp/Grapevine_Leaves_Image_Dataset/train/Buzgulu/Buzgulu (93).png', '/tmp/Grapevine_Leaves_Image_Dataset/train/Buzgulu/Buzgulu (95).png', '/tmp/Grapevine_Leaves_Image_Dataset/train/Buzgulu/Buzgulu (18).png', '/tmp/Grapevine_Leaves_Image_Dataset/train/Buzgulu/Buzgulu (40).png', '/tmp/Grapevine_Leaves_Image_Dataset/train/Buzgulu/Buzgulu (60).png', '/tmp/Grapevine_Leaves_Image_Dataset/train/Buzgulu/Buzgulu (7).png', '/tmp/Grapevine_Leaves_Image_Dataset/train/Buzgulu/Buzgulu (28).png', '/tmp/Grapevine_Leaves_Image_Dataset/train/Buzgulu/Buzgulu (46).png', '/tmp/Grapevine_Leaves_Image_Dataset/train/Buzgulu/Buzgulu (45).png', '/tmp/Grapevine_Leaves_Image_Dataset/train/Buzgulu/Buzgulu (16).png', '/tmp/Grapevine_Leaves_Image_Dataset/train/Buzgulu/Buzgulu (37).png', '/tmp/Grapevine_Leaves_Image_Dataset/train/Buzgulu/Buzgulu (42).png', '/tmp/Grapevine_Leaves_Image_Dataset/train/Buzgulu/Buzgulu (2).png', '/tmp/Grapevine_Leaves_Image_Dataset/train/Buzgulu/Buzgulu (91).png', '/tmp/Grapevine_Leaves_Image_Dataset/train/Buzgulu/Buzgulu (75).png', '/tmp/Grapevine_Leaves_Image_Dataset/train/Buzgulu/Buzgulu (86).png', '/tmp/Grapevine_Leaves_Image_Dataset/train/Buzgulu/Buzgulu (48).png', '/tmp/Grapevine_Leaves_Image_Dataset/train/Buzgulu/Buzgulu (76).png', '/tmp/Grapevine_Leaves_Image_Dataset/train/Buzgulu/Buzgulu (8).png', '/tmp/Grapevine_Leaves_Image_Dataset/train/Buzgulu/Buzgulu (94).png', '/tmp/Grapevine_Leaves_Image_Dataset/train/Buzgulu/Buzgulu (15).png', '/tmp/Grapevine_Leaves_Image_Dataset/train/Buzgulu/Buzgulu (13).png', '/tmp/Grapevine_Leaves_Image_Dataset/train/Buzgulu/Buzgulu (88).png', '/tmp/Grapevine_Leaves_Image_Dataset/train/Buzgulu/Buzgulu (38).png']\n",
            "['/tmp/Grapevine_Leaves_Image_Dataset/train/Dimnit/Dimnit (2).png', '/tmp/Grapevine_Leaves_Image_Dataset/train/Dimnit/Dimnit (71).png', '/tmp/Grapevine_Leaves_Image_Dataset/train/Dimnit/Dimnit (42).png', '/tmp/Grapevine_Leaves_Image_Dataset/train/Dimnit/Dimnit (62).png', '/tmp/Grapevine_Leaves_Image_Dataset/train/Dimnit/Dimnit (29).png', '/tmp/Grapevine_Leaves_Image_Dataset/train/Dimnit/Dimnit (16).png', '/tmp/Grapevine_Leaves_Image_Dataset/train/Dimnit/Dimnit (3).png', '/tmp/Grapevine_Leaves_Image_Dataset/train/Dimnit/Dimnit (74).png', '/tmp/Grapevine_Leaves_Image_Dataset/train/Dimnit/Dimnit (81).png', '/tmp/Grapevine_Leaves_Image_Dataset/train/Dimnit/Dimnit (46).png', '/tmp/Grapevine_Leaves_Image_Dataset/train/Dimnit/Dimnit (44).png', '/tmp/Grapevine_Leaves_Image_Dataset/train/Dimnit/Dimnit (49).png', '/tmp/Grapevine_Leaves_Image_Dataset/train/Dimnit/Dimnit (91).png', '/tmp/Grapevine_Leaves_Image_Dataset/train/Dimnit/Dimnit (17).png', '/tmp/Grapevine_Leaves_Image_Dataset/train/Dimnit/Dimnit (26).png', '/tmp/Grapevine_Leaves_Image_Dataset/train/Dimnit/Dimnit (69).png', '/tmp/Grapevine_Leaves_Image_Dataset/train/Dimnit/Dimnit (31).png', '/tmp/Grapevine_Leaves_Image_Dataset/train/Dimnit/Dimnit (57).png', '/tmp/Grapevine_Leaves_Image_Dataset/train/Dimnit/Dimnit (59).png', '/tmp/Grapevine_Leaves_Image_Dataset/train/Dimnit/Dimnit (1).png', '/tmp/Grapevine_Leaves_Image_Dataset/train/Dimnit/Dimnit (18).png', '/tmp/Grapevine_Leaves_Image_Dataset/train/Dimnit/Dimnit (61).png', '/tmp/Grapevine_Leaves_Image_Dataset/train/Dimnit/Dimnit (90).png', '/tmp/Grapevine_Leaves_Image_Dataset/train/Dimnit/Dimnit (15).png', '/tmp/Grapevine_Leaves_Image_Dataset/train/Dimnit/Dimnit (43).png', '/tmp/Grapevine_Leaves_Image_Dataset/train/Dimnit/Dimnit (85).png', '/tmp/Grapevine_Leaves_Image_Dataset/train/Dimnit/Dimnit (77).png', '/tmp/Grapevine_Leaves_Image_Dataset/train/Dimnit/Dimnit (94).png', '/tmp/Grapevine_Leaves_Image_Dataset/train/Dimnit/Dimnit (50).png', '/tmp/Grapevine_Leaves_Image_Dataset/train/Dimnit/Dimnit (28).png', '/tmp/Grapevine_Leaves_Image_Dataset/train/Dimnit/Dimnit (99).png', '/tmp/Grapevine_Leaves_Image_Dataset/train/Dimnit/Dimnit (51).png', '/tmp/Grapevine_Leaves_Image_Dataset/train/Dimnit/Dimnit (88).png', '/tmp/Grapevine_Leaves_Image_Dataset/train/Dimnit/Dimnit (22).png', '/tmp/Grapevine_Leaves_Image_Dataset/train/Dimnit/Dimnit (87).png', '/tmp/Grapevine_Leaves_Image_Dataset/train/Dimnit/Dimnit (14).png', '/tmp/Grapevine_Leaves_Image_Dataset/train/Dimnit/Dimnit (53).png', '/tmp/Grapevine_Leaves_Image_Dataset/train/Dimnit/Dimnit (25).png', '/tmp/Grapevine_Leaves_Image_Dataset/train/Dimnit/Dimnit (83).png', '/tmp/Grapevine_Leaves_Image_Dataset/train/Dimnit/Dimnit (67).png', '/tmp/Grapevine_Leaves_Image_Dataset/train/Dimnit/Dimnit (55).png', '/tmp/Grapevine_Leaves_Image_Dataset/train/Dimnit/Dimnit (47).png', '/tmp/Grapevine_Leaves_Image_Dataset/train/Dimnit/Dimnit (24).png', '/tmp/Grapevine_Leaves_Image_Dataset/train/Dimnit/Dimnit (6).png', '/tmp/Grapevine_Leaves_Image_Dataset/train/Dimnit/Dimnit (76).png', '/tmp/Grapevine_Leaves_Image_Dataset/train/Dimnit/Dimnit (79).png', '/tmp/Grapevine_Leaves_Image_Dataset/train/Dimnit/Dimnit (63).png', '/tmp/Grapevine_Leaves_Image_Dataset/train/Dimnit/Dimnit (84).png', '/tmp/Grapevine_Leaves_Image_Dataset/train/Dimnit/Dimnit (72).png', '/tmp/Grapevine_Leaves_Image_Dataset/train/Dimnit/Dimnit (54).png', '/tmp/Grapevine_Leaves_Image_Dataset/train/Dimnit/Dimnit (64).png', '/tmp/Grapevine_Leaves_Image_Dataset/train/Dimnit/Dimnit (68).png', '/tmp/Grapevine_Leaves_Image_Dataset/train/Dimnit/Dimnit (66).png', '/tmp/Grapevine_Leaves_Image_Dataset/train/Dimnit/Dimnit (8).png', '/tmp/Grapevine_Leaves_Image_Dataset/train/Dimnit/Dimnit (45).png', '/tmp/Grapevine_Leaves_Image_Dataset/train/Dimnit/Dimnit (10).png', '/tmp/Grapevine_Leaves_Image_Dataset/train/Dimnit/Dimnit (96).png', '/tmp/Grapevine_Leaves_Image_Dataset/train/Dimnit/Dimnit (82).png', '/tmp/Grapevine_Leaves_Image_Dataset/train/Dimnit/Dimnit (41).png', '/tmp/Grapevine_Leaves_Image_Dataset/train/Dimnit/Dimnit (35).png', '/tmp/Grapevine_Leaves_Image_Dataset/train/Dimnit/Dimnit (27).png', '/tmp/Grapevine_Leaves_Image_Dataset/train/Dimnit/Dimnit (11).png', '/tmp/Grapevine_Leaves_Image_Dataset/train/Dimnit/Dimnit (93).png', '/tmp/Grapevine_Leaves_Image_Dataset/train/Dimnit/Dimnit (73).png', '/tmp/Grapevine_Leaves_Image_Dataset/train/Dimnit/Dimnit (34).png', '/tmp/Grapevine_Leaves_Image_Dataset/train/Dimnit/Dimnit (7).png', '/tmp/Grapevine_Leaves_Image_Dataset/train/Dimnit/Dimnit (9).png', '/tmp/Grapevine_Leaves_Image_Dataset/train/Dimnit/Dimnit (89).png', '/tmp/Grapevine_Leaves_Image_Dataset/train/Dimnit/Dimnit (5).png', '/tmp/Grapevine_Leaves_Image_Dataset/train/Dimnit/Dimnit (30).png', '/tmp/Grapevine_Leaves_Image_Dataset/train/Dimnit/Dimnit (86).png', '/tmp/Grapevine_Leaves_Image_Dataset/train/Dimnit/Dimnit (92).png', '/tmp/Grapevine_Leaves_Image_Dataset/train/Dimnit/Dimnit (48).png', '/tmp/Grapevine_Leaves_Image_Dataset/train/Dimnit/Dimnit (37).png', '/tmp/Grapevine_Leaves_Image_Dataset/train/Dimnit/Dimnit (75).png', '/tmp/Grapevine_Leaves_Image_Dataset/train/Dimnit/Dimnit (80).png', '/tmp/Grapevine_Leaves_Image_Dataset/train/Dimnit/Dimnit (33).png', '/tmp/Grapevine_Leaves_Image_Dataset/train/Dimnit/Dimnit (60).png', '/tmp/Grapevine_Leaves_Image_Dataset/train/Dimnit/Dimnit (12).png', '/tmp/Grapevine_Leaves_Image_Dataset/train/Dimnit/Dimnit (13).png']\n",
            "['/tmp/Grapevine_Leaves_Image_Dataset/train/Nazli/Nazli (100).png', '/tmp/Grapevine_Leaves_Image_Dataset/train/Nazli/Nazli (80).png', '/tmp/Grapevine_Leaves_Image_Dataset/train/Nazli/Nazli (98).png', '/tmp/Grapevine_Leaves_Image_Dataset/train/Nazli/Nazli (47).png', '/tmp/Grapevine_Leaves_Image_Dataset/train/Nazli/Nazli (52).png', '/tmp/Grapevine_Leaves_Image_Dataset/train/Nazli/Nazli (69).png', '/tmp/Grapevine_Leaves_Image_Dataset/train/Nazli/Nazli (37).png', '/tmp/Grapevine_Leaves_Image_Dataset/train/Nazli/Nazli (75).png', '/tmp/Grapevine_Leaves_Image_Dataset/train/Nazli/Nazli (62).png', '/tmp/Grapevine_Leaves_Image_Dataset/train/Nazli/Nazli (9).png', '/tmp/Grapevine_Leaves_Image_Dataset/train/Nazli/Nazli (35).png', '/tmp/Grapevine_Leaves_Image_Dataset/train/Nazli/Nazli (88).png', '/tmp/Grapevine_Leaves_Image_Dataset/train/Nazli/Nazli (4).png', '/tmp/Grapevine_Leaves_Image_Dataset/train/Nazli/Nazli (68).png', '/tmp/Grapevine_Leaves_Image_Dataset/train/Nazli/Nazli (26).png', '/tmp/Grapevine_Leaves_Image_Dataset/train/Nazli/Nazli (7).png', '/tmp/Grapevine_Leaves_Image_Dataset/train/Nazli/Nazli (74).png', '/tmp/Grapevine_Leaves_Image_Dataset/train/Nazli/Nazli (16).png', '/tmp/Grapevine_Leaves_Image_Dataset/train/Nazli/Nazli (77).png', '/tmp/Grapevine_Leaves_Image_Dataset/train/Nazli/Nazli (24).png', '/tmp/Grapevine_Leaves_Image_Dataset/train/Nazli/Nazli (15).png', '/tmp/Grapevine_Leaves_Image_Dataset/train/Nazli/Nazli (51).png', '/tmp/Grapevine_Leaves_Image_Dataset/train/Nazli/Nazli (3).png', '/tmp/Grapevine_Leaves_Image_Dataset/train/Nazli/Nazli (72).png', '/tmp/Grapevine_Leaves_Image_Dataset/train/Nazli/Nazli (84).png', '/tmp/Grapevine_Leaves_Image_Dataset/train/Nazli/Nazli (38).png', '/tmp/Grapevine_Leaves_Image_Dataset/train/Nazli/Nazli (91).png', '/tmp/Grapevine_Leaves_Image_Dataset/train/Nazli/Nazli (83).png', '/tmp/Grapevine_Leaves_Image_Dataset/train/Nazli/Nazli (65).png', '/tmp/Grapevine_Leaves_Image_Dataset/train/Nazli/Nazli (81).png', '/tmp/Grapevine_Leaves_Image_Dataset/train/Nazli/Nazli (60).png', '/tmp/Grapevine_Leaves_Image_Dataset/train/Nazli/Nazli (97).png', '/tmp/Grapevine_Leaves_Image_Dataset/train/Nazli/Nazli (33).png', '/tmp/Grapevine_Leaves_Image_Dataset/train/Nazli/Nazli (70).png', '/tmp/Grapevine_Leaves_Image_Dataset/train/Nazli/Nazli (55).png', '/tmp/Grapevine_Leaves_Image_Dataset/train/Nazli/Nazli (54).png', '/tmp/Grapevine_Leaves_Image_Dataset/train/Nazli/Nazli (89).png', '/tmp/Grapevine_Leaves_Image_Dataset/train/Nazli/Nazli (42).png', '/tmp/Grapevine_Leaves_Image_Dataset/train/Nazli/Nazli (48).png', '/tmp/Grapevine_Leaves_Image_Dataset/train/Nazli/Nazli (79).png', '/tmp/Grapevine_Leaves_Image_Dataset/train/Nazli/Nazli (39).png', '/tmp/Grapevine_Leaves_Image_Dataset/train/Nazli/Nazli (29).png', '/tmp/Grapevine_Leaves_Image_Dataset/train/Nazli/Nazli (32).png', '/tmp/Grapevine_Leaves_Image_Dataset/train/Nazli/Nazli (66).png', '/tmp/Grapevine_Leaves_Image_Dataset/train/Nazli/Nazli (10).png', '/tmp/Grapevine_Leaves_Image_Dataset/train/Nazli/Nazli (34).png', '/tmp/Grapevine_Leaves_Image_Dataset/train/Nazli/Nazli (41).png', '/tmp/Grapevine_Leaves_Image_Dataset/train/Nazli/Nazli (31).png', '/tmp/Grapevine_Leaves_Image_Dataset/train/Nazli/Nazli (22).png', '/tmp/Grapevine_Leaves_Image_Dataset/train/Nazli/Nazli (73).png', '/tmp/Grapevine_Leaves_Image_Dataset/train/Nazli/Nazli (95).png', '/tmp/Grapevine_Leaves_Image_Dataset/train/Nazli/Nazli (25).png', '/tmp/Grapevine_Leaves_Image_Dataset/train/Nazli/Nazli (1).png', '/tmp/Grapevine_Leaves_Image_Dataset/train/Nazli/Nazli (57).png', '/tmp/Grapevine_Leaves_Image_Dataset/train/Nazli/Nazli (23).png', '/tmp/Grapevine_Leaves_Image_Dataset/train/Nazli/Nazli (58).png', '/tmp/Grapevine_Leaves_Image_Dataset/train/Nazli/Nazli (56).png', '/tmp/Grapevine_Leaves_Image_Dataset/train/Nazli/Nazli (49).png', '/tmp/Grapevine_Leaves_Image_Dataset/train/Nazli/Nazli (93).png', '/tmp/Grapevine_Leaves_Image_Dataset/train/Nazli/Nazli (92).png', '/tmp/Grapevine_Leaves_Image_Dataset/train/Nazli/Nazli (30).png', '/tmp/Grapevine_Leaves_Image_Dataset/train/Nazli/Nazli (45).png', '/tmp/Grapevine_Leaves_Image_Dataset/train/Nazli/Nazli (14).png', '/tmp/Grapevine_Leaves_Image_Dataset/train/Nazli/Nazli (82).png', '/tmp/Grapevine_Leaves_Image_Dataset/train/Nazli/Nazli (94).png', '/tmp/Grapevine_Leaves_Image_Dataset/train/Nazli/Nazli (21).png', '/tmp/Grapevine_Leaves_Image_Dataset/train/Nazli/Nazli (6).png', '/tmp/Grapevine_Leaves_Image_Dataset/train/Nazli/Nazli (85).png', '/tmp/Grapevine_Leaves_Image_Dataset/train/Nazli/Nazli (64).png', '/tmp/Grapevine_Leaves_Image_Dataset/train/Nazli/Nazli (8).png', '/tmp/Grapevine_Leaves_Image_Dataset/train/Nazli/Nazli (99).png', '/tmp/Grapevine_Leaves_Image_Dataset/train/Nazli/Nazli (43).png', '/tmp/Grapevine_Leaves_Image_Dataset/train/Nazli/Nazli (18).png', '/tmp/Grapevine_Leaves_Image_Dataset/train/Nazli/Nazli (17).png', '/tmp/Grapevine_Leaves_Image_Dataset/train/Nazli/Nazli (40).png', '/tmp/Grapevine_Leaves_Image_Dataset/train/Nazli/Nazli (19).png', '/tmp/Grapevine_Leaves_Image_Dataset/train/Nazli/Nazli (96).png', '/tmp/Grapevine_Leaves_Image_Dataset/train/Nazli/Nazli (44).png', '/tmp/Grapevine_Leaves_Image_Dataset/train/Nazli/Nazli (36).png', '/tmp/Grapevine_Leaves_Image_Dataset/train/Nazli/Nazli (86).png']\n"
          ]
        }
      ]
    },
    {
      "cell_type": "code",
      "source": [
        "import random\n",
        "import tensorflow as tf\n",
        "from tensorflow.keras.optimizers import RMSprop\n",
        "from tensorflow.keras.preprocessing.image import ImageDataGenerator\n",
        "# DEFINE A KERAS MODEL TO CLASSIFY CATS V DOGS\n",
        "# USE AT LEAST 3 CONVOLUTION LAYERS\n",
        "model = tf.keras.models.Sequential([\n",
        "#additing the 1st convolution layers\n",
        "tf.keras.layers.Conv2D(16,(3,3) ,activation='relu',input_shape=(150,150,3)), \n",
        "tf.keras.layers.MaxPool2D(2,2),   \n",
        "#addition the 2nd convolution layers\n",
        "tf.keras.layers.Conv2D(32,(3,3) , activation='relu'),\n",
        "tf.keras.layers.MaxPool2D(2,2),\n",
        "#addition the 3rd convolution layers\n",
        "tf.keras.layers.Conv2D(64,(3,3),activation='relu'),\n",
        "tf.keras.layers.MaxPool2D(2,2),\n",
        "tf.keras.layers.Flatten(),\n",
        "tf.keras.layers.Dense(512,activation='relu'),\n",
        "tf.keras.layers.Dense(1, activation='sigmoid'),                               \n",
        "# YOUR CODE HERE\n",
        "])\n",
        "\n",
        "model.compile(optimizer=RMSprop(lr=0.001), loss='categorical_crossentropy', metrics=['accuracy'])\n",
        "model.summary()"
      ],
      "metadata": {
        "colab": {
          "base_uri": "https://localhost:8080/"
        },
        "id": "bVpI7HBA0gOG",
        "outputId": "30a27f1a-94bf-4a77-87c2-d7a8ac0a0d21"
      },
      "execution_count": 47,
      "outputs": [
        {
          "output_type": "stream",
          "name": "stdout",
          "text": [
            "Model: \"sequential_1\"\n",
            "_________________________________________________________________\n",
            " Layer (type)                Output Shape              Param #   \n",
            "=================================================================\n",
            " conv2d_3 (Conv2D)           (None, 148, 148, 16)      448       \n",
            "                                                                 \n",
            " max_pooling2d_3 (MaxPooling  (None, 74, 74, 16)       0         \n",
            " 2D)                                                             \n",
            "                                                                 \n",
            " conv2d_4 (Conv2D)           (None, 72, 72, 32)        4640      \n",
            "                                                                 \n",
            " max_pooling2d_4 (MaxPooling  (None, 36, 36, 32)       0         \n",
            " 2D)                                                             \n",
            "                                                                 \n",
            " conv2d_5 (Conv2D)           (None, 34, 34, 64)        18496     \n",
            "                                                                 \n",
            " max_pooling2d_5 (MaxPooling  (None, 17, 17, 64)       0         \n",
            " 2D)                                                             \n",
            "                                                                 \n",
            " flatten_1 (Flatten)         (None, 18496)             0         \n",
            "                                                                 \n",
            " dense_2 (Dense)             (None, 512)               9470464   \n",
            "                                                                 \n",
            " dense_3 (Dense)             (None, 1)                 513       \n",
            "                                                                 \n",
            "=================================================================\n",
            "Total params: 9,494,561\n",
            "Trainable params: 9,494,561\n",
            "Non-trainable params: 0\n",
            "_________________________________________________________________\n"
          ]
        },
        {
          "output_type": "stream",
          "name": "stderr",
          "text": [
            "/usr/local/lib/python3.7/dist-packages/keras/optimizer_v2/rmsprop.py:130: UserWarning: The `lr` argument is deprecated, use `learning_rate` instead.\n",
            "  super(RMSprop, self).__init__(name, **kwargs)\n"
          ]
        }
      ]
    },
    {
      "cell_type": "code",
      "source": [
        "TRAINING_DIR = '/tmp/Grapevine_Leaves_Image_Dataset/train'\n",
        "train_datagen = ImageDataGenerator( rescale = 1.0/255. )#YOUR CODE HERE\n",
        "train_generator = train_datagen.flow_from_directory(TRAINING_DIR,\n",
        "                                                    batch_size=20,\n",
        "                                                    class_mode='categorical',\n",
        "                                                    target_size=(150, 150))\n",
        "\n",
        "VALIDATION_DIR = '/tmp/Grapevine_Leaves_Image_Dataset/test'\n",
        "validation_datagen = ImageDataGenerator( rescale = 1.0/255. )#YOUR CODE HERE\n",
        "validation_generator = train_datagen.flow_from_directory(VALIDATION_DIR,\n",
        "                                                    batch_size=20,\n",
        "                                                    class_mode='categorical',\n",
        "                                                    target_size=(150, 150))\n",
        "# Expected Output:\n",
        "# Found 22498 images belonging to 2 classes.\n",
        "# Found 2500 images belonging to 2 classes."
      ],
      "metadata": {
        "colab": {
          "base_uri": "https://localhost:8080/"
        },
        "id": "jzRy29R92UCr",
        "outputId": "58a38620-5373-48c5-9510-d08634ba0367"
      },
      "execution_count": 48,
      "outputs": [
        {
          "output_type": "stream",
          "name": "stdout",
          "text": [
            "Found 2800 images belonging to 5 classes.\n",
            "Found 100 images belonging to 5 classes.\n"
          ]
        }
      ]
    },
    {
      "cell_type": "code",
      "source": [
        "STEP_SIZE_TRAIN=train_generator.n//train_generator.batch_size\n",
        "STEP_SIZE_VALID=validation_generator.n//validation_generator.batch_size\n",
        "history=model.fit_generator(generator=train_generator,\n",
        "                    steps_per_epoch=STEP_SIZE_TRAIN,\n",
        "                    validation_data=validation_generator,\n",
        "                    validation_steps=STEP_SIZE_VALID,\n",
        "                    epochs=5\n",
        ")"
      ],
      "metadata": {
        "colab": {
          "base_uri": "https://localhost:8080/"
        },
        "id": "couFf0c-2un3",
        "outputId": "ee1c2be8-5c81-4e22-a1f0-f74e801dde6c"
      },
      "execution_count": 52,
      "outputs": [
        {
          "output_type": "stream",
          "name": "stderr",
          "text": [
            "/usr/local/lib/python3.7/dist-packages/ipykernel_launcher.py:7: UserWarning: `Model.fit_generator` is deprecated and will be removed in a future version. Please use `Model.fit`, which supports generators.\n",
            "  import sys\n"
          ]
        },
        {
          "output_type": "stream",
          "name": "stdout",
          "text": [
            "Epoch 1/5\n",
            "140/140 [==============================] - 92s 655ms/step - loss: 0.3076 - accuracy: 0.8551 - val_loss: 1.5224 - val_accuracy: 0.7480\n",
            "Epoch 2/5\n",
            "140/140 [==============================] - 89s 631ms/step - loss: 0.1782 - accuracy: 0.8849 - val_loss: 1.7244 - val_accuracy: 0.7900\n",
            "Epoch 3/5\n",
            "140/140 [==============================] - 90s 644ms/step - loss: 0.0870 - accuracy: 0.9186 - val_loss: 1.9181 - val_accuracy: 0.7860\n",
            "Epoch 4/5\n",
            "140/140 [==============================] - 89s 638ms/step - loss: 0.0593 - accuracy: 0.9158 - val_loss: 2.0968 - val_accuracy: 0.7800\n",
            "Epoch 5/5\n",
            "140/140 [==============================] - 90s 639ms/step - loss: 0.0411 - accuracy: 0.9292 - val_loss: 2.1639 - val_accuracy: 0.8380\n"
          ]
        },
        {
          "output_type": "execute_result",
          "data": {
            "text/plain": [
              "<keras.callbacks.History at 0x7fb39c8924d0>"
            ]
          },
          "metadata": {},
          "execution_count": 52
        }
      ]
    },
    {
      "cell_type": "code",
      "source": [
        "\"\"\"\n",
        "history = model.fit(train_generator,\n",
        "                              epochs=5,\n",
        "                              verbose=1,\n",
        "                              validation_data=validation_generator)\n",
        "\"\"\""
      ],
      "metadata": {
        "colab": {
          "base_uri": "https://localhost:8080/",
          "height": 53
        },
        "id": "i7Q-ve4QFAw0",
        "outputId": "1d00b6e2-0ebf-4c70-cb01-c3d76fae56b3"
      },
      "execution_count": 53,
      "outputs": [
        {
          "output_type": "execute_result",
          "data": {
            "text/plain": [
              "'\\nhistory = model.fit(train_generator,\\n                              epochs=5,\\n                              verbose=1,\\n                              validation_data=validation_generator)\\n'"
            ],
            "application/vnd.google.colaboratory.intrinsic+json": {
              "type": "string"
            }
          },
          "metadata": {},
          "execution_count": 53
        }
      ]
    },
    {
      "cell_type": "code",
      "source": [
        "# PLOT LOSS AND ACCURACY\n",
        "%matplotlib inline\n",
        "\n",
        "import matplotlib.image  as mpimg\n",
        "\n",
        "#-----------------------------------------------------------\n",
        "# Retrieve a list of list results on training and test data\n",
        "# sets for each training epoch\n",
        "#-----------------------------------------------------------\n",
        "acc=history.history['accuracy']\n",
        "val_acc=history.history['val_accuracy']\n",
        "loss=history.history['loss']\n",
        "val_loss=history.history['val_loss']\n",
        "\n",
        "epochs=range(len(acc)) # Get number of epochs\n",
        "\n",
        "#------------------------------------------------\n",
        "# Plot training and validation accuracy per epoch\n",
        "#------------------------------------------------\n",
        "plt.plot(epochs, acc, 'r', \"Training Accuracy\")\n",
        "plt.plot(epochs, val_acc, 'b', \"Validation Accuracy\")\n",
        "plt.title('Training and validation accuracy')\n",
        "plt.figure()\n",
        "\n",
        "#------------------------------------------------\n",
        "# Plot training and validation loss per epoch\n",
        "#------------------------------------------------\n",
        "plt.plot(epochs, loss, 'r', \"Training Loss\")\n",
        "plt.plot(epochs, val_loss, 'b', \"Validation Loss\")\n",
        "\n",
        "\n",
        "plt.title('Training and validation loss')\n",
        "\n",
        "# Desired output. Charts with training and validation metrics. No crash :)"
      ],
      "metadata": {
        "colab": {
          "base_uri": "https://localhost:8080/",
          "height": 562
        },
        "id": "2eW6fP1JLTb0",
        "outputId": "24f9ab4d-61c7-46f8-cf09-903b00f96cb9"
      },
      "execution_count": 54,
      "outputs": [
        {
          "output_type": "execute_result",
          "data": {
            "text/plain": [
              "Text(0.5, 1.0, 'Training and validation loss')"
            ]
          },
          "metadata": {},
          "execution_count": 54
        },
        {
          "output_type": "display_data",
          "data": {
            "text/plain": [
              "<Figure size 432x288 with 1 Axes>"
            ],
            "image/png": "[encoded data removed]"
          },
          "metadata": {
            "needs_background": "light"
          }
        },
        {
          "output_type": "display_data",
          "data": {
            "text/plain": [
              "<Figure size 432x288 with 1 Axes>"
            ],
            "image/png": "[encoded data removed]"
          },
          "metadata": {
            "needs_background": "light"
          }
        }
      ]
    },
    {
      "cell_type": "code",
      "source": [
        "from tensorflow.keras.applications.vgg16 import VGG16\n",
        "\n",
        "base_model = VGG16(input_shape = (224, 224, 3), # Shape of our images\n",
        "include_top = False, # Leave out the last fully connected layer\n",
        "weights = 'imagenet')"
      ],
      "metadata": {
        "colab": {
          "base_uri": "https://localhost:8080/"
        },
        "id": "W5qeNztuNVDd",
        "outputId": "1771855b-294c-492a-dd48-9a9a11e4bcb9"
      },
      "execution_count": 55,
      "outputs": [
        {
          "output_type": "stream",
          "name": "stdout",
          "text": [
            "Downloading data from https://storage.googleapis.com/tensorflow/keras-applications/vgg16/vgg16_weights_tf_dim_ordering_tf_kernels_notop.h5\n",
            "58892288/58889256 [==============================] - 0s 0us/step\n",
            "58900480/58889256 [==============================] - 0s 0us/step\n"
          ]
        }
      ]
    },
    {
      "cell_type": "code",
      "source": [
        "for layer in base_model.layers:\n",
        "    layer.trainable = False\n",
        "# Flatten the output layer to 1 dimension\n",
        "x = tf.keras.layers.Flatten()(base_model.output)\n",
        "\n",
        "# Add a fully connected layer with 512 hidden units and ReLU activation\n",
        "x = tf.keras.layers.Dense(512, activation='relu')(x)\n",
        "\n",
        "# Add a dropout rate of 0.5\n",
        "x = tf.keras.layers.Dropout(0.5)(x)\n",
        "\n",
        "# Add a final sigmoid layer with 1 node for classification output\n",
        "x = tf.keras.layers.Dense(1, activation='sigmoid')(x)\n",
        "\n",
        "model = tf.keras.models.Model(base_model.input, x)\n",
        "\n",
        "model.compile(optimizer = tf.keras.optimizers.RMSprop(lr=0.0001), loss = 'categorical_crossentropy',metrics = ['acc'])"
      ],
      "metadata": {
        "colab": {
          "base_uri": "https://localhost:8080/"
        },
        "id": "2SoOLBpPNhUE",
        "outputId": "be8e9f73-b191-4ed2-fa7b-71d09c120b19"
      },
      "execution_count": 57,
      "outputs": [
        {
          "output_type": "stream",
          "name": "stderr",
          "text": [
            "/usr/local/lib/python3.7/dist-packages/keras/optimizer_v2/rmsprop.py:130: UserWarning: The `lr` argument is deprecated, use `learning_rate` instead.\n",
            "  super(RMSprop, self).__init__(name, **kwargs)\n"
          ]
        }
      ]
    },
    {
      "cell_type": "code",
      "source": [
        "vgghist = model.fit(train_generator, validation_data = validation_generator, steps_per_epoch = STEP_SIZE_VALID, epochs = 5)"
      ],
      "metadata": {
        "colab": {
          "base_uri": "https://localhost:8080/",
          "height": 1000
        },
        "id": "qkV8xXokNv1Z",
        "outputId": "ef8f675c-fcbd-4b02-d6f4-ec1639bbbbb9"
      },
      "execution_count": 59,
      "outputs": [
        {
          "output_type": "stream",
          "name": "stdout",
          "text": [
            "Epoch 1/5\n"
          ]
        },
        {
          "output_type": "error",
          "ename": "InvalidArgumentError",
          "evalue": "ignored",
          "traceback": [
            "\u001b[0;31m---------------------------------------------------------------------------\u001b[0m",
            "\u001b[0;31mInvalidArgumentError\u001b[0m                      Traceback (most recent call last)",
            "\u001b[0;32m<ipython-input-59-46c1309730c5>\u001b[0m in \u001b[0;36m<module>\u001b[0;34m()\u001b[0m\n\u001b[0;32m----> 1\u001b[0;31m \u001b[0mvgghist\u001b[0m \u001b[0;34m=\u001b[0m \u001b[0mmodel\u001b[0m\u001b[0;34m.\u001b[0m\u001b[0mfit\u001b[0m\u001b[0;34m(\u001b[0m\u001b[0mtrain_generator\u001b[0m\u001b[0;34m,\u001b[0m \u001b[0mvalidation_data\u001b[0m \u001b[0;34m=\u001b[0m \u001b[0mvalidation_generator\u001b[0m\u001b[0;34m,\u001b[0m \u001b[0msteps_per_epoch\u001b[0m \u001b[0;34m=\u001b[0m \u001b[0mSTEP_SIZE_VALID\u001b[0m\u001b[0;34m,\u001b[0m \u001b[0mepochs\u001b[0m \u001b[0;34m=\u001b[0m \u001b[0;36m5\u001b[0m\u001b[0;34m)\u001b[0m\u001b[0;34m\u001b[0m\u001b[0;34m\u001b[0m\u001b[0m\n\u001b[0m",
            "\u001b[0;32m/usr/local/lib/python3.7/dist-packages/keras/utils/traceback_utils.py\u001b[0m in \u001b[0;36merror_handler\u001b[0;34m(*args, **kwargs)\u001b[0m\n\u001b[1;32m     65\u001b[0m     \u001b[0;32mexcept\u001b[0m \u001b[0mException\u001b[0m \u001b[0;32mas\u001b[0m \u001b[0me\u001b[0m\u001b[0;34m:\u001b[0m  \u001b[0;31m# pylint: disable=broad-except\u001b[0m\u001b[0;34m\u001b[0m\u001b[0;34m\u001b[0m\u001b[0m\n\u001b[1;32m     66\u001b[0m       \u001b[0mfiltered_tb\u001b[0m \u001b[0;34m=\u001b[0m \u001b[0m_process_traceback_frames\u001b[0m\u001b[0;34m(\u001b[0m\u001b[0me\u001b[0m\u001b[0;34m.\u001b[0m\u001b[0m__traceback__\u001b[0m\u001b[0;34m)\u001b[0m\u001b[0;34m\u001b[0m\u001b[0;34m\u001b[0m\u001b[0m\n\u001b[0;32m---> 67\u001b[0;31m       \u001b[0;32mraise\u001b[0m \u001b[0me\u001b[0m\u001b[0;34m.\u001b[0m\u001b[0mwith_traceback\u001b[0m\u001b[0;34m(\u001b[0m\u001b[0mfiltered_tb\u001b[0m\u001b[0;34m)\u001b[0m \u001b[0;32mfrom\u001b[0m \u001b[0;32mNone\u001b[0m\u001b[0;34m\u001b[0m\u001b[0;34m\u001b[0m\u001b[0m\n\u001b[0m\u001b[1;32m     68\u001b[0m     \u001b[0;32mfinally\u001b[0m\u001b[0;34m:\u001b[0m\u001b[0;34m\u001b[0m\u001b[0;34m\u001b[0m\u001b[0m\n\u001b[1;32m     69\u001b[0m       \u001b[0;32mdel\u001b[0m \u001b[0mfiltered_tb\u001b[0m\u001b[0;34m\u001b[0m\u001b[0;34m\u001b[0m\u001b[0m\n",
            "\u001b[0;32m/usr/local/lib/python3.7/dist-packages/tensorflow/python/eager/execute.py\u001b[0m in \u001b[0;36mquick_execute\u001b[0;34m(op_name, num_outputs, inputs, attrs, ctx, name)\u001b[0m\n\u001b[1;32m     53\u001b[0m     \u001b[0mctx\u001b[0m\u001b[0;34m.\u001b[0m\u001b[0mensure_initialized\u001b[0m\u001b[0;34m(\u001b[0m\u001b[0;34m)\u001b[0m\u001b[0;34m\u001b[0m\u001b[0;34m\u001b[0m\u001b[0m\n\u001b[1;32m     54\u001b[0m     tensors = pywrap_tfe.TFE_Py_Execute(ctx._handle, device_name, op_name,\n\u001b[0;32m---> 55\u001b[0;31m                                         inputs, attrs, num_outputs)\n\u001b[0m\u001b[1;32m     56\u001b[0m   \u001b[0;32mexcept\u001b[0m \u001b[0mcore\u001b[0m\u001b[0;34m.\u001b[0m\u001b[0m_NotOkStatusException\u001b[0m \u001b[0;32mas\u001b[0m \u001b[0me\u001b[0m\u001b[0;34m:\u001b[0m\u001b[0;34m\u001b[0m\u001b[0;34m\u001b[0m\u001b[0m\n\u001b[1;32m     57\u001b[0m     \u001b[0;32mif\u001b[0m \u001b[0mname\u001b[0m \u001b[0;32mis\u001b[0m \u001b[0;32mnot\u001b[0m \u001b[0;32mNone\u001b[0m\u001b[0;34m:\u001b[0m\u001b[0;34m\u001b[0m\u001b[0;34m\u001b[0m\u001b[0m\n",
            "\u001b[0;31mInvalidArgumentError\u001b[0m: Graph execution error:\n\nDetected at node 'model/flatten_2/Reshape' defined at (most recent call last):\n    File \"/usr/lib/python3.7/runpy.py\", line 193, in _run_module_as_main\n      \"__main__\", mod_spec)\n    File \"/usr/lib/python3.7/runpy.py\", line 85, in _run_code\n      exec(code, run_globals)\n    File \"/usr/local/lib/python3.7/dist-packages/ipykernel_launcher.py\", line 16, in <module>\n      app.launch_new_instance()\n    File \"/usr/local/lib/python3.7/dist-packages/traitlets/config/application.py\", line 846, in launch_instance\n      app.start()\n    File \"/usr/local/lib/python3.7/dist-packages/ipykernel/kernelapp.py\", line 499, in start\n      self.io_loop.start()\n    File \"/usr/local/lib/python3.7/dist-packages/tornado/platform/asyncio.py\", line 132, in start\n      self.asyncio_loop.run_forever()\n    File \"/usr/lib/python3.7/asyncio/base_events.py\", line 541, in run_forever\n      self._run_once()\n    File \"/usr/lib/python3.7/asyncio/base_events.py\", line 1786, in _run_once\n      handle._run()\n    File \"/usr/lib/python3.7/asyncio/events.py\", line 88, in _run\n      self._context.run(self._callback, *self._args)\n    File \"/usr/local/lib/python3.7/dist-packages/tornado/platform/asyncio.py\", line 122, in _handle_events\n      handler_func(fileobj, events)\n    File \"/usr/local/lib/python3.7/dist-packages/tornado/stack_context.py\", line 300, in null_wrapper\n      return fn(*args, **kwargs)\n    File \"/usr/local/lib/python3.7/dist-packages/zmq/eventloop/zmqstream.py\", line 577, in _handle_events\n      self._handle_recv()\n    File \"/usr/local/lib/python3.7/dist-packages/zmq/eventloop/zmqstream.py\", line 606, in _handle_recv\n      self._run_callback(callback, msg)\n    File \"/usr/local/lib/python3.7/dist-packages/zmq/eventloop/zmqstream.py\", line 556, in _run_callback\n      callback(*args, **kwargs)\n    File \"/usr/local/lib/python3.7/dist-packages/tornado/stack_context.py\", line 300, in null_wrapper\n      return fn(*args, **kwargs)\n    File \"/usr/local/lib/python3.7/dist-packages/ipykernel/kernelbase.py\", line 283, in dispatcher\n      return self.dispatch_shell(stream, msg)\n    File \"/usr/local/lib/python3.7/dist-packages/ipykernel/kernelbase.py\", line 233, in dispatch_shell\n      handler(stream, idents, msg)\n    File \"/usr/local/lib/python3.7/dist-packages/ipykernel/kernelbase.py\", line 399, in execute_request\n      user_expressions, allow_stdin)\n    File \"/usr/local/lib/python3.7/dist-packages/ipykernel/ipkernel.py\", line 208, in do_execute\n      res = shell.run_cell(code, store_history=store_history, silent=silent)\n    File \"/usr/local/lib/python3.7/dist-packages/ipykernel/zmqshell.py\", line 537, in run_cell\n      return super(ZMQInteractiveShell, self).run_cell(*args, **kwargs)\n    File \"/usr/local/lib/python3.7/dist-packages/IPython/core/interactiveshell.py\", line 2718, in run_cell\n      interactivity=interactivity, compiler=compiler, result=result)\n    File \"/usr/local/lib/python3.7/dist-packages/IPython/core/interactiveshell.py\", line 2822, in run_ast_nodes\n      if self.run_code(code, result):\n    File \"/usr/local/lib/python3.7/dist-packages/IPython/core/interactiveshell.py\", line 2882, in run_code\n      exec(code_obj, self.user_global_ns, self.user_ns)\n    File \"<ipython-input-58-ca4b00d2cf13>\", line 1, in <module>\n      vgghist = model.fit(train_generator, validation_data = validation_generator, steps_per_epoch = 100, epochs = 5)\n    File \"/usr/local/lib/python3.7/dist-packages/keras/utils/traceback_utils.py\", line 64, in error_handler\n      return fn(*args, **kwargs)\n    File \"/usr/local/lib/python3.7/dist-packages/keras/engine/training.py\", line 1384, in fit\n      tmp_logs = self.train_function(iterator)\n    File \"/usr/local/lib/python3.7/dist-packages/keras/engine/training.py\", line 1021, in train_function\n      return step_function(self, iterator)\n    File \"/usr/local/lib/python3.7/dist-packages/keras/engine/training.py\", line 1010, in step_function\n      outputs = model.distribute_strategy.run(run_step, args=(data,))\n    File \"/usr/local/lib/python3.7/dist-packages/keras/engine/training.py\", line 1000, in run_step\n      outputs = model.train_step(data)\n    File \"/usr/local/lib/python3.7/dist-packages/keras/engine/training.py\", line 859, in train_step\n      y_pred = self(x, training=True)\n    File \"/usr/local/lib/python3.7/dist-packages/keras/utils/traceback_utils.py\", line 64, in error_handler\n      return fn(*args, **kwargs)\n    File \"/usr/local/lib/python3.7/dist-packages/keras/engine/base_layer.py\", line 1096, in __call__\n      outputs = call_fn(inputs, *args, **kwargs)\n    File \"/usr/local/lib/python3.7/dist-packages/keras/utils/traceback_utils.py\", line 92, in error_handler\n      return fn(*args, **kwargs)\n    File \"/usr/local/lib/python3.7/dist-packages/keras/engine/functional.py\", line 452, in call\n      inputs, training=training, mask=mask)\n    File \"/usr/local/lib/python3.7/dist-packages/keras/engine/functional.py\", line 589, in _run_internal_graph\n      outputs = node.layer(*args, **kwargs)\n    File \"/usr/local/lib/python3.7/dist-packages/keras/utils/traceback_utils.py\", line 64, in error_handler\n      return fn(*args, **kwargs)\n    File \"/usr/local/lib/python3.7/dist-packages/keras/engine/base_layer.py\", line 1096, in __call__\n      outputs = call_fn(inputs, *args, **kwargs)\n    File \"/usr/local/lib/python3.7/dist-packages/keras/utils/traceback_utils.py\", line 92, in error_handler\n      return fn(*args, **kwargs)\n    File \"/usr/local/lib/python3.7/dist-packages/keras/layers/core/flatten.py\", line 96, in call\n      return tf.reshape(inputs, flattened_shape)\nNode: 'model/flatten_2/Reshape'\nInput to reshape is a tensor with 163840 values, but the requested shape requires a multiple of 25088\n\t [[{{node model/flatten_2/Reshape}}]] [Op:__inference_train_function_22174]"
          ]
        }
      ]
    }
  ]
}